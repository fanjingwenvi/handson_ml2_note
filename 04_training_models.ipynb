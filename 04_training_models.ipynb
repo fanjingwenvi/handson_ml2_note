{
 "cells": [
  {
   "cell_type": "markdown",
   "metadata": {},
   "source": [
    "Further \n",
    "SVD, SGD: stimulated annealing, learning curve, softmax regression"
   ]
  },
  {
   "cell_type": "markdown",
   "metadata": {},
   "source": [
    "1. linear regression \n",
    "LinearRegressor(SVD): linear\n",
    "\n",
    "2. gradient descent\n",
    "SGDRegressor(StandardScalar): linear\n",
    "\n",
    "3. polynominal regression \n",
    "(PolynominalFeatures): polynominal\n",
    "\n",
    "4. learning curves \n",
    "\n",
    "5. regularized linear model\n",
    "\n",
    "6. logistic regression \n",
    "softmax regression: multinominal logistic regression \n",
    "multiclass classifier "
   ]
  },
  {
   "cell_type": "markdown",
   "metadata": {},
   "source": [
    "## 1. Linear Regression "
   ]
  },
  {
   "cell_type": "code",
   "execution_count": 1,
   "metadata": {},
   "outputs": [],
   "source": [
    "import numpy as np \n",
    "from numpy import random \n",
    "import matplotlib.pyplot as plt \n",
    "random.seed(42)\n",
    "plt.style.use('ggplot')"
   ]
  },
  {
   "cell_type": "code",
   "execution_count": 2,
   "metadata": {},
   "outputs": [],
   "source": [
    "X = random.rand(100, 1)\n",
    "Y = 5 + 2 * X + random.rand(100, 1)"
   ]
  },
  {
   "cell_type": "code",
   "execution_count": 3,
   "metadata": {},
   "outputs": [
    {
     "data": {
      "image/png": "[encoded data removed]",
      "text/plain": [
       "<Figure size 432x288 with 1 Axes>"
      ]
     },
     "metadata": {},
     "output_type": "display_data"
    }
   ],
   "source": [
    "plt.scatter(X, Y)\n",
    "plt.show()"
   ]
  },
  {
   "cell_type": "code",
   "execution_count": 4,
   "metadata": {},
   "outputs": [
    {
     "data": {
      "text/plain": [
       "array([[5.51359766],\n",
       "       [1.96646836]])"
      ]
     },
     "execution_count": 4,
     "metadata": {},
     "output_type": "execute_result"
    }
   ],
   "source": [
    "X_new = np.c_[np.ones((100, 1)), X]\n",
    "thetas_best = np.linalg.inv(X_new.T.dot(X_new)).dot(X_new.T).dot(Y)\n",
    "thetas_best\n",
    "## np.c_[], np.r_[], column stack, row stack \n",
    "## 'CClass' object is not callable\n",
    "## Normal Equation "
   ]
  },
  {
   "cell_type": "code",
   "execution_count": 5,
   "metadata": {},
   "outputs": [],
   "source": [
    "X_end = [[0], [1]]\n",
    "X_end_new = np.c_[np.ones((2, 1)), X_end]\n",
    "Y_end = X_end_new.dot(thetas_best)"
   ]
  },
  {
   "cell_type": "code",
   "execution_count": 6,
   "metadata": {},
   "outputs": [
    {
     "data": {
      "image/png": "[encoded data removed]",
      "text/plain": [
       "<Figure size 432x288 with 1 Axes>"
      ]
     },
     "metadata": {},
     "output_type": "display_data"
    }
   ],
   "source": [
    "plt.scatter(X, Y, alpha=0.5, s=8)\n",
    "plt.plot(X_end, Y_end)\n",
    "plt.axis([0, 1, 5, 8])\n",
    "plt.show()\n",
    "## plt.axis: set xmin, xmax, ymin, ymax "
   ]
  },
  {
   "cell_type": "code",
   "execution_count": 7,
   "metadata": {},
   "outputs": [
    {
     "data": {
      "text/plain": [
       "array([[5.51359766],\n",
       "       [1.96646836]])"
      ]
     },
     "execution_count": 7,
     "metadata": {},
     "output_type": "execute_result"
    }
   ],
   "source": [
    "## np.linalg.lstsq: return the least squares solution \n",
    "thetas_best, residuals, rank, s = np.linalg.lstsq(X_new, Y, rcond =1e-6)\n",
    "thetas_best"
   ]
  },
  {
   "cell_type": "code",
   "execution_count": 8,
   "metadata": {},
   "outputs": [
    {
     "data": {
      "text/plain": [
       "(array([5.51359766]), array([[1.96646836]]))"
      ]
     },
     "execution_count": 8,
     "metadata": {},
     "output_type": "execute_result"
    }
   ],
   "source": [
    "from sklearn.linear_model import LinearRegression\n",
    "lin_reg = LinearRegression()\n",
    "lin_reg.fit(X, Y)\n",
    "lin_reg.intercept_, lin_reg.coef_\n",
    "## no need for X_new\n",
    "## Linearregression bases on scipy.linalg.lstsq()\n",
    "## SVD approach: singular value decomposition "
   ]
  },
  {
   "cell_type": "markdown",
   "metadata": {},
   "source": [
    "## 2. Gradient Descent "
   ]
  },
  {
   "cell_type": "code",
   "execution_count": 9,
   "metadata": {},
   "outputs": [],
   "source": [
    "## StandardScalar for gradient descent approach \n",
    "## randn: -1, 1, rand: 0, 1 "
   ]
  },
  {
   "cell_type": "code",
   "execution_count": 10,
   "metadata": {},
   "outputs": [],
   "source": [
    "def cost(thetas, X=X_new, Y=Y):\n",
    "    return (1/len(Y)) * np.sum((X.dot(thetas) - Y)**2, axis=0)\n",
    "def gradients(thetas, X=X_new, Y=Y):\n",
    "    return  (2/len(Y)) * X.T.dot(X.dot(thetas)-Y)"
   ]
  },
  {
   "cell_type": "code",
   "execution_count": 11,
   "metadata": {},
   "outputs": [],
   "source": [
    "thetas  = random.rand(2, 1)\n",
    "iterations = 100\n",
    "espilon = 0.1\n",
    "thetas_group = thetas.T\n",
    "for n in range(iterations): \n",
    "    thetas = thetas - espilon * gradients(thetas)\n",
    "    thetas_group = np.r_[thetas_group, thetas.T]"
   ]
  },
  {
   "cell_type": "code",
   "execution_count": 12,
   "metadata": {},
   "outputs": [
    {
     "data": {
      "text/plain": [
       "((101, 2), (101,))"
      ]
     },
     "execution_count": 12,
     "metadata": {},
     "output_type": "execute_result"
    }
   ],
   "source": [
    "thetas_group.shape, cost(thetas_group.T).shape"
   ]
  },
  {
   "cell_type": "code",
   "execution_count": 13,
   "metadata": {},
   "outputs": [],
   "source": [
    "from mpl_toolkits import mplot3d"
   ]
  },
  {
   "cell_type": "code",
   "execution_count": 14,
   "metadata": {},
   "outputs": [
    {
     "data": {
      "text/plain": [
       "((40, 80), (40, 80), (40, 80))"
      ]
     },
     "execution_count": 14,
     "metadata": {},
     "output_type": "execute_result"
    }
   ],
   "source": [
    "A = np.arange(0, 8, 0.1)\n",
    "B = np.arange(0, 4, 0.1)\n",
    "A, B = np.meshgrid(A, B)\n",
    "R = np.stack((A, B)).reshape(2, -1)\n",
    "C = cost(R).reshape(A.shape)\n",
    "A.shape, B.shape, C.shape\n",
    "## np.stack: A, B must be in same shape"
   ]
  },
  {
   "cell_type": "code",
   "execution_count": 15,
   "metadata": {},
   "outputs": [
    {
     "data": {
      "image/png": "[encoded data removed]",
      "text/plain": [
       "<Figure size 432x288 with 1 Axes>"
      ]
     },
     "metadata": {},
     "output_type": "display_data"
    }
   ],
   "source": [
    "fig = plt.figure()\n",
    "ax = fig.add_subplot(111, projection='3d')\n",
    "ax.plot_surface(A, B, C, antialiased=False)\n",
    "ax.plot(thetas_group[:, 0], thetas_group[:, 1], cost(thetas_group.T))\n",
    "plt.show()"
   ]
  },
  {
   "cell_type": "code",
   "execution_count": 16,
   "metadata": {},
   "outputs": [
    {
     "data": {
      "image/png": "[encoded data removed]",
      "text/plain": [
       "<Figure size 864x288 with 3 Axes>"
      ]
     },
     "metadata": {},
     "output_type": "display_data"
    }
   ],
   "source": [
    "thetas  = random.rand(2, 1)\n",
    "iterations = 10 \n",
    "espilons = [0.01, 0.1, 0.5]\n",
    "fig, axs = plt.subplots(ncols=3, figsize=(12, 4))\n",
    "for i in range(3):\n",
    "    axs[i].scatter(X, Y, alpha=0.5, s=8, label=f'espilon={espilons[i]}')\n",
    "    axs[i].legend()\n",
    "for n in range(iterations):   \n",
    "    thetas = thetas - espilons * gradients(thetas)\n",
    "    for i in range(3): \n",
    "        axs[i].plot(X_end, X_end_new.dot(thetas[:, i]))\n",
    "        \n",
    "## fig, (axs[0], axs[1], axs[2]) "
   ]
  },
  {
   "cell_type": "code",
   "execution_count": 17,
   "metadata": {},
   "outputs": [
    {
     "data": {
      "text/plain": [
       "array([[5.50148547],\n",
       "       [2.00404783]])"
      ]
     },
     "execution_count": 17,
     "metadata": {},
     "output_type": "execute_result"
    }
   ],
   "source": [
    "## stochastic gradient descent: jump out of local optimal \n",
    "## polynominal regression: local minimal and global optimal \n",
    "n_epochs = 50 \n",
    "t0, t1 = 5, 50 \n",
    "thetas = random.rand(2, 1)\n",
    "m = len(Y)\n",
    "thetas_group = thetas.T\n",
    "def learning_schedule(t):\n",
    "    return t0/(t+t1)\n",
    "def get_gradients(thetas, X=X_new, Y=Y):\n",
    "    return  (2/len(Y)) * X.T.dot(X.dot(thetas)-Y)\n",
    "for epoch in range(n_epochs):\n",
    "    for i in range(m):\n",
    "        random_i = random.randint(m)\n",
    "        Xi = X_new[[random_i]]\n",
    "        Yi = Y[[random_i]]\n",
    "        gradients = get_gradients(thetas, X=Xi, Y=Yi)\n",
    "        esp =  learning_schedule(epoch*m+i)\n",
    "        thetas =  thetas - esp * gradients\n",
    "        thetas_group = np.r_[thetas_group, thetas.T]\n",
    "thetas\n",
    "## esp =  learning_schedule(epoch*m+i)\n",
    "## stimulated annealing: change the espilon gradually"
   ]
  },
  {
   "cell_type": "code",
   "execution_count": 18,
   "metadata": {},
   "outputs": [
    {
     "data": {
      "text/plain": [
       "array([[0.60642906, 0.00919705],\n",
       "       [1.94432651, 1.19619672],\n",
       "       [2.72142296, 1.21594983],\n",
       "       ...,\n",
       "       [5.5008593 , 2.00392294],\n",
       "       [5.50085886, 2.00392271],\n",
       "       [5.50148547, 2.00404783]])"
      ]
     },
     "execution_count": 18,
     "metadata": {},
     "output_type": "execute_result"
    }
   ],
   "source": [
    "thetas_group"
   ]
  },
  {
   "cell_type": "code",
   "execution_count": 19,
   "metadata": {},
   "outputs": [
    {
     "data": {
      "text/html": [
       "<video width=\"576\" height=\"432\" controls autoplay loop>\n",
       "  <source type=\"video/mp4\" src=\"data:video/mp4;base64,AAAAIGZ0eXBNNFYgAAACAE00ViBpc29taXNvMmF2YzEAAAAIZnJlZQAAgNdtZGF0AAACnwYF//+b\n",
       "3EXpvebZSLeWLNgg2SPu73gyNjQgLSBjb3JlIDE2MCAtIEguMjY0L01QRUctNCBBVkMgY29kZWMg\n",
       "LSBDb3B5bGVmdCAyMDAzLTIwMjAgLSBodHRwOi8vd3d3LnZpZGVvbGFuLm9yZy94MjY0Lmh0bWwg\n",
       "LSBvcHRpb25zOiBjYWJhYz0xIHJlZj0zIGRlYmxvY2s9MTowOjAgYW5hbHlzZT0weDM6MHgxMTMg\n",
       "bWU9aGV4IHN1Ym1lPTcgcHN5PTEgcHN5X3JkPTEuMDA6MC4wMCBtaXhlZF9yZWY9MSBtZV9yYW5n\n",
       "ZT0xNiBjaHJvbWFfbWU9MSB0cmVsbGlzPTEgOHg4ZGN0PTEgY3FtPTAgZGVhZHpvbmU9MjEsMTEg\n",
       "ZmFzdF9wc2tpcD0xIGNocm9tYV9xcF9vZmZzZXQ9LTIgdGhyZWFkcz02IGxvb2thaGVhZF90aHJl\n",
       "YWRzPTEgc2xpY2VkX3RocmVhZHM9MCBucj0wIGRlY2ltYXRlPTEgaW50ZXJsYWNlZD0wIGJsdXJh\n",
       "eV9jb21wYXQ9MCBjb25zdHJhaW5lZF9pbnRyYT0wIGJmcmFtZXM9MyBiX3B5cmFtaWQ9MiBiX2Fk\n",
       "YXB0PTEgYl9iaWFzPTAgZGlyZWN0PTEgd2VpZ2h0Yj0xIG9wZW5fZ29wPTAgd2VpZ2h0cD0yIGtl\n",
       "eWludD0yNTAga2V5aW50X21pbj0yIHNjZW5lY3V0PTQwIGludHJhX3JlZnJlc2g9MCByY19sb29r\n",
       "YWhlYWQ9NDAgcmM9Y3JmIG1idHJlZT0xIGNyZj0yMy4wIHFjb21wPTAuNjAgcXBtaW49MCBxcG1h\n",
       "eD02OSBxcHN0ZXA9NCBpcF9yYXRpbz0xLjQwIGFxPTE6MS4wMACAAAAjdGWIhAAW//730z/Msuv3\n",
       "ObXjqPeiniZfQ3UlAZuWxO06gAAAAwAAAwAEF1pJ4wALbiBLMAAAPUAERmb/wkMfAB72O21kagii\n",
       "uWZloQl/uCdGmPGMVnZZIHwYc5XKBIU8d7/nTlNK2LeyUhfvZjV73sq6a9GyRHLtYbZ+itFG22z8\n",
       "kGRapLZ1Ed+numdHkrsjLaYembgbQhDsEnuBMgh8Ejf7Iiy8J5lLER2Y0+f6z7O+zLp2qDkGim24\n",
       "e+7ZmNWRHjmHpZAYmBNWUDbzyn5EgWrvSJxh+/SgE+H1nCQ6o/s/OeZcnw7Y+8tziHb+3KkltnlC\n",
       "suxzxl7nsxdJhQHHIVxF8dRJ6pSwMR7f/d4ANi63dESvGfeaZZjvvpaPDWsOsqcDHAB7rBWocdeM\n",
       "kGKdMO7Uyquv5fu0WtI9YPoTzRvEN6AqZaLTzqV0/VRNDfLNN/DfgCbZPzhgTLkpS4fuQUSyIfUc\n",
       "I5Y3Qy9hA/lKeaosb6Rr4aDrMRMpLSeUgp0FcnKSPPbXPPXDkFoyyhIcAclsp68SE+/09B38an+9\n",
       "jRzgojI1sYous02uCmVn13DLrZq+7Y//BWJe4RN/sDt9CM4oU3/gh/CJKKEXZ2XtsCaFI70MTrjs\n",
       "pTzbwrxr+yPBtf/btiDMEe59BZGD5ySgkSHL51XG1ajbLJiswYmGdqr70wdvG7F6eXvTU9VGfum9\n",
       "/XhExODInWIs5zpw3rcqyMM+TbtU+bHyzGO3tC25DT4oKPCl0/l9nEvtWB3yyHKd4lb8O6PAihyL\n",
       "ie+irrZ08/I87++5QmYQedR4npYx/MIG7lTd9chsDJLx4/nO4znJyYqwaAiABbe8oPfFR7mx5Trr\n",
       "xNPFQYkf36OdjrOfp4XZekkOudLrMn4bMgkZqsqcm6pDaZ4bptIl67C6pFSrNx9JBSQsj3+wql6d\n",
       "yrg/+1jPUVFUUMCDehbFJ/OhJ9h5Ga8+R+1cB6gZffVmkszqIGwKU820kTksXqVRxI5lJtH6YGFV\n",
       "tsPllGEVjK97wxUkiAGs7kdDln/yh7vN2UwYBRnawLMjikKwM/WjRSqAOka2qIzP5BLStZxFoWv3\n",
       "ADNe99l4ND7iV8T8w463mGnVeEhCaNGF7/X/ns155OOvoYF8Qv1buIMZUREOxAH6FWbXLHtyyieS\n",
       "0bq4xwVyx1pIDZ7olqBEQjcxSHzgs71B8hy0QG5MeWWVURIePUZjK9VJmrFxfZV5l7lemRwuUiTf\n",
       "amlXwtyKLQnsEPV7xeOvpjLeSPWcXVfZmvDHCQBUv+3k+twCYQILVfLzs9UlEsVLBn3dAYlftTSu\n",
       "exUdiLauA0oj28WIzwAVjKZCpdnDheUZqeyv8nHu+9DhmJRzFWxxcCFvr64TaZpVSQPYVwQx96g6\n",
       "hTaY9TRO96yyW/pv7ZjO6lA/OSOAmtBeGCMHLPngnn/jV+pwyB2Jnyf/h02fFJQ437F6UxdrCVNV\n",
       "tknNpxHni4ova0rC4+4H+u6PGKNt3KdiGnJi7zz1xOVl2oCEK/coLadOX8junkk94mKHN+OBmW5R\n",
       "71qTBAQTXp9zq2PscR3KO/4vL0LrpVhlEW7/70E5jXMHxg+/o9y4tE1GczZmLCZajjf+Ehj7PUJ1\n",
       "wYEGJ0oRlaUUKUhxXUcKQN/6dCqlvdCbD1683U2JOFy9kZLWo88shM9UKG8LF2ghGafu96igGa9o\n",
       "XGD4ePoKbc+uzWy+SvttR5rGGihqJBZ4c5ux6ntYpB5gfCZUBOoHuB22VnGRjgeXwc40A4wpGR+X\n",
       "Ob9gdKpq/9cPx/66xo2oHrN2LduIa9WoLUuZGq9x+PGj+laLCQNRtcSecSN/gaFP9mUhnjuwbRen\n",
       "lBkFd94zoxU1OqBt4yvQltGvhRNdWC7dICvOrWS5qnYzpxG6LOI22jmRfZSfxwIi4ec1IxngNaeC\n",
       "FtUiTa/4Hoot+njPh15z6GCkoC08TiTxftiJuUM6ozJIdjNQhs1rg0mxbjeUjZXtAPkEZGoOItN9\n",
       "IWgN771qm8Qs+f6lhpXN3GeorZD0+tO+TN0AGnOEjBb2OZuhWBkKX2jPxZU+lhuxS7TMIyr2spGE\n",
       "pYs+OAztwdQSIvsHkZmX0WUpKSHBvTOZRZ8N6X8VnYLb2KK2GLRKdCw3tnA/6WMU5vLDe5FT1XQk\n",
       "afs+cbknOgUgBPio9xfw7qpAsvM1vN8Z9RUHemzz6KP0KNpwrwhFecdkPYrQ+PAWy/JpW8cU9cGY\n",
       "8yrdyH8HWI7e33jEqgxmkrvvBBYCN1vnn1YjdgpzADMZBAzSyMGjQwVmlBaS4ZmeJFtbTsawIlNM\n",
       "8NGYrqu/SFFSoQSgUSzxw9tlQhEKpZlICzVGM4D9AwObPQp58M72Qs4Hf8KDuN+RqYAqNlLr1P/B\n",
       "hzFwBRUFUZsDxIHF1gmmXOgJQgrManGeLG3Jr3y1M7gC1zK1HJVWsI5NqixhP2804rlQhq/e44CK\n",
       "H0T+3DrDzUI3CUfM/8pqHnD/0rY7A+45JH+2aXe+P8OGoFZntSh+FFTD1g5KI7z3IOdW0qhy4q6K\n",
       "E9wbM3oQMyNqDu5kVDFrHOuXo1kFRFptQuG7+RASHO8TbUQCZRwdOnwpsBa25VGfx2jIBfTPqABH\n",
       "UJIu5YxzCTTPU4pAfpvISJXg/2kGFopjLSBOQ9caQ8fe5vAQKeWVmC82qLMB7z0o1qKRKMSI6Zxj\n",
       "qs/i60b4SH/E3875C3xB393wjLYD43ufYnQtSxG65eC8Mp68RwXLX+lEOuibZZQBv9nR7olBZlxT\n",
       "FVmSZ5nSboTJ4j+bGQqwy/eVdOnoeH0cX/UF/7Vy7YXLNBYR1lWavjsg1w9szIP/vGTKH1+AnyYf\n",
       "NQZESJaFPtjQ9HLRLNfqqhLbQBhNGXXxCqkSXBNdDNCQESoAiEKKApo/U4h99uGb2/ps3q/OH0Zm\n",
       "Hwzsyt7XX/veKTEHiVMPqcGeuuxopr/zV6h92KK9rlDRLMqA6Yb91cortq+o/4/2J1tVPfIphWjV\n",
       "WyGTx+/+20FM58Is8uuXstvOuSp+JaTn2iJv8qE0nISH3OfvhEP9RLiU3xxk6Pa9kcV/OnHoOPVg\n",
       "PSrlwVt/BAlZIrGOaVPcBW0UjXZp/BQf0VoxXYMjZkAHlwKBDGX+ZS1RaTyIjRKVyXUB+/CGbzo5\n",
       "EMDF0Y7U/VL14x8lHylh1sD/xXXJBUEkeV5LNuYFkAmkzsGBr4suihWzyJxErbT6L9pUTnmi2BJj\n",
       "uiaswPahsF/q3KtVqJl/9aFdfAHPKdvXt9I1ruITtPEsQaNOFSXOA5siD3F5i236HkHKHVkUsrDi\n",
       "Mn9PUyLRyf+ZUA3IBqsKdyZCEhvaOUZp8wVqiRRGSQ4WZ5e3Rg9G98RVEx+610vF3/BZ/qJ5TaL9\n",
       "sadYtrHZhNvYpv8hTuVcYm5oeIY5AEhc99bfPvV8AUD0feTWWt7vkIadlVEe2HFEA4lEqdxx4x7K\n",
       "mqHj9LskJXir2HeAqK8S53e7LD/3Cljvrcb9XAvSJZ3Ayc7ac6GhZEEuqfpjzJXMDr2CSFzi6qzN\n",
       "1wrPIgLPXqVN6dR+DAvCBuYNJKe9/rETl/v0ipN+la+htccJle57jbLQDbTjw9Mrr2Ed21KMu3y1\n",
       "TW9U4FFEf5d5KMSttle9atXLqZItduA69SdI3q2TweM+ZC9iMSubIn/unVUxweqOWgI2YsHnW0I6\n",
       "ICGUPWn4JkX1MPgOH99HL5KVm4hY4sNindsMjGKJ84xF8Ega/ANKh9U38ZPQm+nseyWuytK4oCfj\n",
       "yo6ifh4DrGjMUQ+tGR+KOLPjgoH5dqFyT4hgX5YbrjSYzDOagEhyjB7AU/fNOYgwL+402oZG5WkP\n",
       "swlR/cEKhC0uMKDQwFTU9mvxCbt5uhcgXhRg/yiYh2qHzJLfn9mgHXoHGy1T/h8misVnyg+oS3X3\n",
       "nSbaiB5y06wsTs7s82uk6k1UIvZCEHf64wc2Mh6kyrQcRsUOAW4DpzxMFUr2/0ndxu7iMvUXR2zE\n",
       "3DqeZgc4YTbg955NsFupOaQFpTDEnzwBZQcJmycosW4R/404qWavZP4H6d9E4qMOfHmQf8Bs9bMd\n",
       "DYATBjRMK7mdsV8eKXytOWceBmKDm5l+wbbLXA2/fP7LUVk9H6kD8ea1dPTormgWbBX+fX3JsX5N\n",
       "GNg8x9JXNAhI9hwJ5M3VcH0ASe/3mtSo0nLaOmfvYEF/zYYDB1jtaQxQ36TPuuAsmJUkiHEkefaI\n",
       "ZridU6eBMRWvnVhXiPpgUwbQK/nZhqQC5hhq4qI9q9RFxnOhgg+T/vrHkWcIzH1m8yz10u6d+Vnd\n",
       "fp2V4V1o/fKISVUfl9wPIbOW3QXn0uc2fhNVhLHg2eim3RsnqTvXxXH600vHcx97SYSUbjNmLMCU\n",
       "LKkzxCxsmh+pNipQMxHBTwiPh6EW0UrSkiPltzvlpCv4tMHx05fOumiYEX7Y52nYI98LITvsjNkh\n",
       "2HkgymuC0Cl/OQpcRzRwp0yEBYedeUrZNKsrxRY7w5Q5tB7GvW2U8yxr7LlvHg72hH/7mBW3rD8e\n",
       "lOxcu4t1X+FexANWKdLJ1G/dNOGCHetqm7bmN6yrKYhVNz+KlxgQICHQOb5vtddUuHFPn2OkrnIm\n",
       "OmB5ufEhfakF8f3EL2JuRvANr713eBMnALAdG2GChiHDls2RhAG6Egn8jUFO1EmGRR/WsD4jt0+j\n",
       "sO7U6kj7GEatizjHzAkkyO3/mA0pwYtSYcPyyU3N1mu3gCH2FV9VHOOZTDYtOLtsenNfPlsscPaw\n",
       "xgO/q7luqNvfsb7Ylnk3OZYGJojf4wY7VjqnKS8Tp5LapC1OduBzT8/+HBdiGPe24NrX8oQsoozg\n",
       "gc0oyuF9UNZ48a5m66Ky+eIS7GyZbcWN27IqG9gj9Is8w6Kua4SQwonGY4m5Z4+6zJyKPOtSnYmn\n",
       "UmYKXnnSPUfJZG/3DeBHYWPMxGAllJjg+PDgdLzJr2LJoPw49WLeneBNAVZy5gDzWhcBgYmJm+fV\n",
       "S1AQxnNKNJiU7QqBL9mrDMr//bOqJAFsMlRjYxVh44P0zwnRQ3SpNAR55FNZ7eJSpToZtyLCs1Qb\n",
       "xqMyfSbwyfy5+gCj7yxFlmaDd9DgZajzGM8cFpW1nvbsQxoAOemIar4f6GBa0ycvm6u4XPNcQFMJ\n",
       "VVlaKwjN1+QT+NNYE2Drn0Bd/srTP93zYPqEqbUi1bCllwt+2tK1UfThN8UD1H7W+hWY+2zIixeP\n",
       "wP3agUQhUcrkOEUkDr7WpURff9GVFAg4ED9CWk2jdNPU6BeT2eRsMI+UypRamFumL174Vid63znn\n",
       "u30A6qnFMcTr/X//4+BZYWHC/+6Sjew98ym8OjZCYD2xQKcSrvqUj0csJzKvADHeqxrRlAQteKhN\n",
       "q87nJdWSrsTq/J6mlMYXmcBXU/62vCb24gqehm3OonDen4ZaZ7bG/yrc326XS3QAmzoADALrS60J\n",
       "spl/7M+vmee0rYhdxaqZ4ob2xz61dWTZVVLu/hsRtQENbm4/oE0VA2wXDH/nH75SR+Q5pR/QqePt\n",
       "KMFmL29K+UeNGcAChVm5MDhdmMLD8YVTMM6xRv0cwqEFd5WOP/fZqyv0VHzqd9zvw88uAiwRxwtR\n",
       "cFK6qSixsEBGZRF+zYarOp4qvWzqjDU4MDEUXuePenM4Q7EMnMzStOGIodwWl85W4WLPmAN/3/lG\n",
       "54oIdfrgxKJJ0bVsGhwbX5add4cotC7OtKSYpiWTI42DdMHljnMh8CTYfOOCGLTq2mtSC2a/+DKv\n",
       "uswmPvUlkLPa68bh0VXvgGVP7L0i7hk1TnMpV2ynrw7yI39GtLU4HxKzFI2Sr2XQ1uwws1UQo5Pb\n",
       "xkSfux/3DEdJI7qvng9CgUwUqw9sKoe+ESh8jMaVh+3tF0hOi56qmN1O06Gs40ksTE/Ka1QxVDqe\n",
       "MeT0X/Yp2MJrbhcWfByN8r6KSktm8OEVRmUN/ZhAAcaF/rSWkaJqw+9ZRvV4Ol7FOEjCc3IeV4/v\n",
       "0E8CP+e4+oCBlmb8aCZpqN55/Um5GjxGKfIo5OJnYjji6trr+eRSEm0AWcx/1fgdq34Dh7FC59E1\n",
       "Oni5IFmx52bYd5A57Pn/zot3Om3oBfzA1YFxPZlKB5KEl9ENL64bKAD/ICeYFLsGb881sCtX0o6h\n",
       "5Af9/kNPCDinTRPgirrgtgWLd1tU74ktNnUbIX0d3nwbuuvHac7VN3eeUHrLtZzREgWu4Fu+ALow\n",
       "jz46i+U/nCnTrHwH1wupE3QW2y9dgmxwsM8bTo13qKkYH/c9IEt+bsP3qbgSWUbJsztpvc/h+x8M\n",
       "U/aJO9MAOook/8znN8rgUULmJYOiW/YDC21GQLfplCclB9kSnZgHfh8pteaGXXhX6oCI8Odc7Rmh\n",
       "0VpaEy2kuJn0pO6UgEquW2TnqI5i3pz3mSJl8VDBQizr6nPlQXlpyWjPBrCwEZd+6hCtcrq9LoV1\n",
       "EjV1dZGjWKj1BoPm1OVjRH36+1BeY7QXlMwxRrxYCgmFRoxIXpmedknkq5+5zrWj8pdbFmgAPcLA\n",
       "pDf6qa8cARkjwklrykUztWszW/oCQ0HHdxVHd/GYuFDRjR9JAG+cAmEk+L3QUxRV+wpEbA3ELHPR\n",
       "wgGJDlBFyE0OV62wwN//T87UQNmy/HWxN/iQspRf2Wosz6G5SxbYgoE3XpX3qy3p3N7b1uTfHq5X\n",
       "9g9JwUGVNxLynNmTVTGoBloBFcM6bLVOOf1WjfjcMdqnRwWek1372EppZ80Dks5l98zkKcYiAHOJ\n",
       "YQjpAJz31Mvxmbbc1rwwGIpESD09XohUsSTkomz4Em2PeE/XZg51l2NqU8ULfHxV1RBMmMzbG2Gd\n",
       "J6QSdcfywtIamaEx6qOKf/+d6qAZnSc8v1GhEE9DMBisVSqkIEjGIOHhNmbuw+kBpclyn8VfCfYk\n",
       "hkpXmMZPgAdzESeGHrcX/xFUHYBE829s0oKZRXMpHFogUcWC7fFD7PjtoREevq+3UGOu7Wp7Q6up\n",
       "iMY8ehIEuCl7t7POjvXwCufEk8uflNuL8A+bZ/zG/2S9ndChfZewbE8zZ2lJNf+7mtIUwNqlrJ71\n",
       "HtBLhEDQNiFkOEPm3sQnZL/jbt6C3FG5YbRiCWiUZCf/HUG64iYwSq6vNVXSrUcYF5yQOtEzmwa7\n",
       "9exbD3mM6atCDtQAACgi/72s33e/24ajTsYYg31twxI1aO1emFP35t/GRYjZWHYpNIUZsfeNXyhS\n",
       "6w+9+g96V6T3efySpLsoglB7qVRWD2JEcKWq8ExDraQFX2ARlyzeUH7d4a0roW8kOtP1iKHht88O\n",
       "vElR560klpEcV+p4kOFEpqtLBh6yOsCHsQyRsIJ7kSQEzkvoAyLE022DGCiRM/TaMOYEweThyMkN\n",
       "1QPBfkFGbINsyFV4MNkow24P1/5NA516P4oABJtHhmQ2EvAXFBUnDvYKp4daHK+2XH2vOQRQsfCo\n",
       "r9t47gnnwIf1rPExHR9NzRGFZEMij5T1mJ43G7mKqNVdwL0S/JLi5AzZZcvl8Fn31HnLRUQGgNPU\n",
       "008EsbfrP7txpdbcQOVmHbCNvk4eHc0pM1iDUV3AwsXFWXnFpVQaW7wrHgR03prNLFCVArYvUVwJ\n",
       "aLNXGNUs77m/NG980OyYSyfZxawEQdFQ1jJLr2x+1s9w7Gof7s0GtXRT/nv4p2k+gXzeDchb/Eks\n",
       "OT1k0YMGlvzZgnVjmmsR16Lt8V9aPCy3BN80bLKi0ObdLpo7VjwvMfydCUP74acq2tLZ4F7RvO2l\n",
       "YojJLnzfDOzO33HZhF24GtkdTKrHKpApWlQILa9uo2/1tHc4J7wUQ6DNhvoOnEny1QdblcZ3ID2w\n",
       "wz/JISHkEsgHYH916iSsWwxYy13Ro1SpfykvAP/Wp33MAPdd5+jwdnNz+MXNCLw1UjwJ6cJiuAQM\n",
       "QlfaV+E/FidpXath0lc9wRYqFeKwYcjN69abLkH7bLchDD/sBfI6f01h9a24qxvRTZ3/nUtfuns5\n",
       "/d6xQScuwen7bEL2W42+88hhUW6MPLVXYyoUdFyanwd3dnedVTy3jHvl6+cE3yli2J2/AbG6uDeQ\n",
       "S01Jf2b9RH9jzT6oKh/VPZc9jA6es/lSvACgcL5IMwKjabJqx4bNu4dvGgZJYwa60AK1sFSDfKcq\n",
       "lHdS9zLBzw8GnN+wsvqtceGR33Rqp0IvOfoN3WeBPY3sZtm3mxgfe5WjfpIK8Px9bEl+GdM/KXNM\n",
       "1CvZDrVcyxGx8QEzoqKtwIrnq0oNBe7lvKGIg1nc4/Pdu/q3K//I5iYK03ZCVtA7UJ/MNVom34oX\n",
       "8FysTADITnwUzibBPeUUH1sfuEWT1gprT7tH/Snk2rzx3+vK3ahhDLO7/YV4DTtzPQ+7btLcJvyx\n",
       "IKa0s846zICFTGhr+O6h2+qDCemBdM9keonmlCsslyM7giqtKSn6tbnFmxg4Byb/zzf4rywqOS/Z\n",
       "ISQ6XdpqTIT6BLVi7ZI0FwY5LCOCS6TUVUhPW597KA4uAb0X+MEd9mDj4kUB11lkbmpOjfyYhBba\n",
       "MxAGcpdQwexgoP1LQR2ZBpWFUreyAgpR7J3V0HYwQK0Sa73joILdwvjIytAcgkg7gTRvQFq09kbj\n",
       "Ab6PtZRGGwbjQ2OTJGKbsKQD4Fit2enJEtLyX2ai7LRu/RXZ7liP/8KxyJxJi4q1K5XPJwGXngXo\n",
       "WyvJRuDFk1FSyfbDOTLDfINJEUNYlkPzwdEh+kxHkecyaXxoDNawSvy5BMUGYzZxgR0F5YC4e5FR\n",
       "l525KS9azHcOaSnVF7VskHdXEShsySM2pir3GDiZsqn/LKCWEj/8kj9xEPPCKS1Bmd9fTQNsBPMV\n",
       "zQ2smXYjAIbDFODaDX/WmuyGf5Qm+G0TAoP2gV/lJCHpfYKHD8c0UfBRbxIj1wJNDfgcdUVvZ2Ip\n",
       "wdVbEOcaIMvIRV5T4WAAAAMAMjyrjzFehu1DdG8nwHcnG++BdzcRgU4x3JZaMfYOfIETBwb80JfS\n",
       "NAkcRYG5E/CGT15uUuRDu//On8bF73AZogH/vG/LUqgI7UeSQec2G/xh1EKgMuJYVU78LNjR8+Na\n",
       "829s/ZY4u6YCBT+Xo634n40qldl2SWPNv0DUzGF7x4RZD2O0qA1FNsgSn3zFb1gNOArldYYimpxd\n",
       "wmYb7qsNaKK0EICcvf+WApxXx/7pgC6v2FuI8kdiB4Ie7+cI5EaVDo2B8d5WDCyQ8o5Cw6wlLmhr\n",
       "kVCZWTFgNKoENQnRiCfsLZYLU0IVSuvGdSdpdX1cC6EAS1zPSo7UWAAAAwD3sh8Xp8gUL9piHCgx\n",
       "2CGu2CMa8eVtwvN/9QCB+TTunR6yUDZMjorKbwp2MSfNlKZEkfnOzpu6EkhvAj3sFKEpjzRur+TI\n",
       "KCrMKXrBPWL0ynqjT/5W/2re6vJrY4RxGDr+9/0TreFG6BlOA0Kk8CfAlGYBvLaYzMpMipRQWlYG\n",
       "TwgviT4fBev+pBMUk5A1Yzicv5AeYCF41jEz0L6uXOLOzt70yc66av+aIYSQf3OiQCemwE1GlqGJ\n",
       "hfr6VqilrWiFCvGJA+AABR6clkzrHkEm+axOujOMxxz98O2nHrRb4/x1suLeep1u7lux0ICEm02W\n",
       "AANo7NtXzWYB7XQBzuU8WFUy3wBvkON1uSYUFl1HcKzpPtCrQckev4tgJ2hqLtpF4VmHRDC2HKMw\n",
       "+qNFA7jSI0k78/PLNoqo2dSmxIjvUxzwOmHVen8Qv9YJTsDR06H2mdCkrnJPbyuifD8f3wgzYbom\n",
       "efCka0o286Fi/oKOB/+edsWQLI9Apz1Zu1nobkGFBSARYGp//GrKtyoNjcvNbkN1bcs/922p8iJV\n",
       "XlFoV9xT4l/2/88jOtaD/clep/bj7PYAAAMA2WeCeRVZpaGhDma59qDlXZCyL9GEGcUCA1AYIB4L\n",
       "vFLzV2c3zoX5mLgNxbSmOAubsyFrGb5vuyII4bFKS/7cKoq0AhOV8H6ZgtIoHeZZJc9NoZGypNM6\n",
       "GKUlXO6IYJMjyL4ipU1xVHxkvgSfA4dp4SoTzxb7CzfzBK7Z2cFMHJQKepZZz/7NR3oCAOPLxSi4\n",
       "1mte7f1zS/FnRdp1G2pW2XrscUSRfE3H5KFocnadTfL/tkLa467EhJUe/62np3JMNZ3KJov2bP7T\n",
       "bnWAuDi5OXGDlSEK5wfKSTNSjEFyzJFIT7WYBdOZUMROL6NOjqMaejrmISt2VYrXtBcPURTscO5r\n",
       "34q6+7Ro8Eo3eagUBqpPGAK/iWochfeFZ4WlSk5XxEXtXyTxuHyH38j/oWR0/4T6Vt5NtupYs56M\n",
       "zCH+90FLqM4/kuIgtuz+eyTCb0bBDHvxMP7xldd6REuGxEkPQk0lWQNpKzh/A/nOqpwcCm/IkXvp\n",
       "CKh97UMfSAU6/Kd3mG1/wyPsoiSXspQX9YJ4AJIV4ywjXTbhqWCP5e22ktkJcyJpgYczxmVutIcy\n",
       "BiZHMVdWvFhdOt0y8c8wa1o/Gmo793ZVj7mDnxHjhy3lZExcMGtvxx5sytuLzABXpMHScgZ56bRE\n",
       "osHKjoW975/gI+Tbb7RFxIuQJ3i4Mqi5lRHH1q6wSFj9gJO7jVd3Aw90mk9n0qkjSAF1Qq3pdJyd\n",
       "dWrTw70Mh0DxaturgC1yxzkCKwND+lptbElaoqDju9FreylMo0ZGRvWSFI2yaUIV4NGlLLWPOeoB\n",
       "fXUcxOTiJR9DhILKnQjQzBRppru3not+JMZo+IO5gm/IHhNTeDVQia4/36+tojQE1c2zwZ54QjMp\n",
       "p1E6l/hNloUI+Sh2Jy/ycCXEH2MyiU8VFGlXt6LcupYLeDn2cM25VCrhVOFHI/2lf1KMQ9YCwBsM\n",
       "Ej9N7U9oUPgXX2URkdt4xh9227aCb5Tu6SDpQ8Y+A98CnYd9zLAK9XWQxghhHI4p2uY32Dtxl+/g\n",
       "RUF3tP+pWIa1U6KtcUXFHILkMT1jj9CRbn/+mkrt4FQnBbFZ4rrd/yRIt24yh31IXPoaAgNxvlwp\n",
       "yX4xP5VvJwGl04YOXtKmhZkJ80Wn0ewLWpqsGKDByu1LqpOWX0KxL97lwiSb4yu6oacnAEAoZuue\n",
       "aVVMxWbZ3QJ2RyC4h0BnUfVbBXM1h6Khaa96n/sie7ydVavOsPtovGS3oA/9RpmIv0zZVEJc8sVi\n",
       "VOzevfwQ5coERhzsSrOli6hH8CiRGtizIN4WEc/4/ly8nhShul8Ws29xAM4vyBDhJCGTWGnYiwCK\n",
       "QQWC3bIegCIJeO10AyfOyZSDuQMZryrY8s4bkrAV51OoAVg6MRc7MgaQV2VumGPCaQaxtg9f9OKh\n",
       "iO7rBeDfAYjmh8002dJ/71aB1KR820Z0l+H1ib7PV7uyyM1gPdrqoe6F7B7ETLYfXh8BpIG51XV3\n",
       "arQdDxgCeiZq/TFHArqAJEtJG+0MgaxYY2lBYCQplIC93Xuk80KCS+mGbYN9pfMLLegbd4zhGfzq\n",
       "/uliT0+e/85ssWw0lJjFwbRqlBx+cs+YSZ52XZsExRiwDa9OGYR+gxpedpTYy+5x/yjP1MkYzGhG\n",
       "/Poe5vwQl/HQBTYtmDSVKupitEhplYLRhiBRRNq0G9MKizX7MfQLOrK1m3Sh+7AK5rXoFaz1wdkV\n",
       "aBMIf58AHz0Lp502O/EBvgSddsgs5sw7Hpd+BleVPRRmCn8oInFfKKy/gXDZJhJMhQtzRlaH+5yY\n",
       "kubJyihFuDGmra/pzNewXS+f98Tosgs1zL92qbxUIbttFminhM5Ny30nF0ALfneVrBfrszwxnJj/\n",
       "JxTDvipugszEcRtWJTsYl83V3Ntc3RUMiX5+sH75xrgs4rRigIekCu62poDy7IjiFCoH2Z3HYHDo\n",
       "RkxnYkV/a45zQPn5BBb6ZSfDM0q8dMkFG/FDnF2+lYNcYDUH6dVuh7zqcJFTMgiuExG6N8IK1dy/\n",
       "IZ5t1pvzgSD5X/Bu/t4hFsxJ44RON16FKgwHu05fnHZqp3iE98i+9kkxka65kKtmp20uAXtaQ8bn\n",
       "Y4r5/cplgkWqJY/PvMYQmday7J6hb8/aMJtvlZouBRNd+ZlRWM+zwwiSFiQ7xbm+aW80NCx9hNsF\n",
       "FejPTaPIFiSr2MO5UsflHc1V7IA8ZrzyYt6QoJi7WyhOUksLSTDlmT60Goi519x6QEIV084HsuhU\n",
       "CqRbl7lgSPGPjI/BLcWrIARzp1HFWnvtaWbJ5SOtOh2wHdTtbT0cntSlVP8UIbpAAAADAAWIAWsA\n",
       "AAggQZokbEFf/talUADU2kggVUyegBxnQd9sHwdPRHj9yGCda9SUoRX/9DV4QveT+OvYTKaFsut6\n",
       "6IU8Qq8Li1itsPJ97moXAlbwvRWdbGmMgtttSz/YMXJzXbFuoy0TrD6EtPCWmtiSrHwG8eHEl8+d\n",
       "bc6B5DsOkz/aWiu4LxOzd8iqKbJ/OYywC8j8tG6uceskTN751UNNv9+2NBxBXUqk2xTM1YfxV8HC\n",
       "X2X1tQShs7uIxKPnwC9dXN79HjzC1c/hAl0RBIAYOp/DxAL5CKATmdx8KfoX1Bgc4VgIN5qx1Mlt\n",
       "DTxGoUf7sFAp/aHmPbeAGQ5Ow5KH5InZpDGdCohyOZogCF/jYWx3TvnViX4BOggTMvoWxidq8TdC\n",
       "c5G4fKKaxOE05OWZmhMFOgiWsNVZtKnTcg92CUPdoStZy3Z5B9fTS9Qo+D5CyxqfPBYVF9iVrEWL\n",
       "aLONl4KYT04tIx4rSyYQCaWS1qfLbsXeVMEccJn0LIJ08qnPOfFenmICsVAM83dAc9RGW10VXLfX\n",
       "M1nycFe7eiL4c0x7ZGlANyHLREewn+0XDeTBVujmaiDrUmcr02ZexE/1U1gzlFwB+9YKV9Tz/xnE\n",
       "sWqhGcoAKtQavRMue8Hj1TgLxLpo6Q5TBpN9WvAfa7ZsO/Qwhu/CnuZPL0N6SKrywpcRxXfA5B/C\n",
       "FUCvO3gxCgCj4FpH9qqQk0nMkHTdYtdakXVJBnabC1aAkFE+ue5BEE3gbwRzkdW5KXK8/iscrE0l\n",
       "uaY54ycD63BzsyPWCibwhUkOZE043fcP26xYTYlSqmce8GwypPKBBsZtEHY2ZWh0sTVGUyX26yEu\n",
       "YIhZ0jDfw2an1Ftmd7Zz57yDwUna2wjQaNt5aC9QG1rRsf3NJ5AS1TpYOuzhZ7XFxdDrEXb5rygH\n",
       "a49GH2q5+l/4nrQp9K93Ii+CR/tusEPvAi7CvvDdod/X2VhFKqt/6VSe9Lm1iHGWDD4jChYU18LH\n",
       "h0vbW0KWUnWh9dyPQ5+eh+fTRrMIkk3qnwtKz3N5rvLDQEYHlTnEYr8JxxUYzqs8uK/vuc7Nshuk\n",
       "vTprVQtDHrzMQBRID+YHN4OBJnRy/OahiSc4xll/K1Kqu22IfVVO/9wUC4mtXMKeonbkqF0kHZoy\n",
       "57jdb2bDxl+W5jwiaPNYxfuPSWW3mNZSgYlC3LxUZRSNata4UYCEvGCjbQ4LmwCASJErPVUtQ33m\n",
       "1Ge4MzymB46/Jy5JHhy9h/9d8ISXI1Cpo0Sk22eIdE6pUUbE/tUhj3DQAbbuZXilSsaUdTPBNe2g\n",
       "2sOcYirM4oEa3T/8gXB+vbZbk6Zen28eYCWhfaOQxPfBIhQzjZxo4IlXZkF10W3XvgQ2QTw8qB2J\n",
       "OT75EVzPuDlT4/my5s4BmeBpAmBblgB/w6bPKz/siXuy4NEkfTwHCIl39Ucbi705RJRJKJ1q8QOt\n",
       "MCHz2yxbmctC5dfv66JmS+6tNAtUR8E0+FytHBn1HPMPhgs//wxBa//kruT1oi8vM6GTbyCX6/QB\n",
       "3SsheeKlvacU+8jHomvMTQypx5MBZdu7sf+nK6AIOmHDHkHrtOboNi0qI3j0UCQ3MqNR6Gmed0nW\n",
       "4gHXNsx5BzRiJtkpslGKpuu2/ksmkP9lXmoaVw3p8GSp7vLlzu/qq+a5iLnW0us5f4LxXqCyqtr1\n",
       "eGahkOmVfKey8HkaaIisPRNONnjjh/YgLvKz+BHSCB6i5IC8r/lF2EqLrc5fiASSWoBWrmuzlQw/\n",
       "xCG8Lood40hclZ/EOX6dH61yrBy/Tq2AJr+0LYCVHXuxYzQJP4teVGAKAwVGkc/7HEY4Nal+D80u\n",
       "FVnzoBSo/jhimk/YspvDcF6Y3EDMh3u5xFrpkz8LU0VzTzmHtvguKEl3eB85Zov6OldUcxamwS0l\n",
       "atAyVxzm+KhM8rijdOWcb/pBmsPv7z3a89bi8aFMhMkows1twia2whAA8moqTIqMg7oaZoHbvzvd\n",
       "3KQHC3tDNlHXHLhF4apl5sj65t2Dey7/sc7OZJbBR9C+rT9eiA2eL8tN1TfNpX7XiONlcG+F1WAb\n",
       "qi/79SZUO6kQrKMGxVDPANC3fRfVbkSTQDie475xmsetpTDVg56JQlECEnarUQph313lKmUrZ/0l\n",
       "70qeR3gGAoQDQ3UAkiHT59TiGi8/jXkA3RjmeY8nCeJzYrCGELOqKVIoIZdWaGRJU6TrpU3nJCWO\n",
       "JO1T5fsiEAeIJZfFs44PguZUUQgd2TYppUthYRWgQPQdUaT8Ro2K1kQin6XS53hShI8yFRPVhj9a\n",
       "R5P8zAwRReQ5kJXQEqXaOH5jYibJcwbumfF7/TyZRTjgvWTes4PhwaDsJNusHi2NfvHtrxxvI8jU\n",
       "LVGx+XrMAc/W8/22YDx/W8fCF1zf2uSKItrQfa8Z63lKsBYp7Myuf5N+AMiet8S/CosU4NYFSh+K\n",
       "0T6/wdRwcG4dOz164TZbFuEfdSjG7ugyIQr8/NxxtEkO/P4kTc9XVOxgFYZ8oi04kyJSW3KHVzow\n",
       "uEsHG2ihfLUbE2hTGw/2C8EW1Z2g3hQfe7VoVSE//uT6aVbgtHnz8vvWdb9+dJL1VFmHIjMn53vq\n",
       "kcIPRgugpAXk44y8284WkUsxRNdQKFeAiGWhUi6x/vP+C7DbzRssdnfrXrdWVuqbVVc9Jpz+/rhI\n",
       "t70LmxmCZQ2qh28x61sdN/6YpRWzpP2miWJpZp8D/eEMiNgffnX4nURRvYKxpNkwraKJgpCBsR13\n",
       "vjfSz43WQxpj3ouuho6roUisO2CovOj9/nM1PCAKSAAABjVBnkJ4gp8AASSzcoABYcSdSKerQZn4\n",
       "3hcYcRI7H9+B0MKAoeSE+H23kbFsxAvkI9KSKYAf4pWfcnL8A23PUVKFi8jRQkCFDNueRYPizkAh\n",
       "Ld114JDttQzPESQlBI5tx1C2I084Q40/iYKfLLvKQ3CWN24/W7KY24jS4TxAozFINeyts8sBcy0s\n",
       "aHcJUqoEFVyhd9WGf6k+jVZOj/0ssZcYFGXRhjQqEUb2/D1AKA8cWWD5qRnZh27cmZ7JXzbMAXNg\n",
       "ih9hUXv/9cOYUdDU3a9BUoMj2csKiLC5sw97wEwrJ+D3SEKpsZRO7buvjhrShc4ctVPtYaP1pnON\n",
       "7GfkIbMke2u2rc3EHGJCZlZWqHTQHosdtC3tAJDMlmw79FL/CCQbn+pYDNxf0RXgJsipyX2Z56mn\n",
       "rktrR4VD7q/M+xaP2btyPaaiyqnOgauC5b0fEGemy4fFKi+89k4OQGcvV9+vr01ofwZTk5K+lVdY\n",
       "mTPK/6kajUQ1XjY0l5zZnmAMDnbjwJePSdz0cW+2YWhT5HBiIOV6vL5o+/8BHkD/GHYRAphFelYg\n",
       "KfTqdsUsAOSg9683cmOzr8laaaVUJQZ5PoXZcaLrEiGCur56GsuBRfA/7cto7KZ4sGDmNvX0JAR9\n",
       "Zorg9sZ7+ph+997UjWVGMlTbv4YJou09uruslyh0nXjRWX/AP6Ni+jbpGW4PZ/6EC4DtsOrpUcKa\n",
       "OhjQLzIMIbyL3SWxmGSDPasjcr1xjqO1hVABetUddFsIaeiecxIU2siqLePR3v8ANec9ntY5hMPj\n",
       "4eAmuAFdnK8mRNXKemrGC4fWfgG7ahXhrUV3PEwyXl5RaNeh5rcG36vIKbHRKi7+62/CO6iMGaGS\n",
       "lYFSQrfJm05FYFoumm9CRn8VuVJ905AdVDoYMcLONYQ+MK9Gxf6qHrtU0WsZv8B27yLSIrhKw+bt\n",
       "j2WR4gzJfq3Vr7WeZaThOWq+NSDjwcOcMquN+SJd+VwAtmH7YWcIKVtocWt0L/+yOtFwzyOzDPMd\n",
       "07CgP4EvOkB66vK0ZPGlT2QIzjnTyowIyC7Cbt5xmWgSbIQ1AXcVAtqt2f57tK9qCNIBly6rOEMc\n",
       "BRnjw8od/yk0bmznyjg5m5mGDryTTkq2CaOj7jFsAEU4Qh2ft403HvAxu1L4K9wT7sSCpZEzJ+zn\n",
       "XIBJHB20aj6Ld4cx1c7cUWCXOfDzAjwiJKrsuePYFU9EvCH0zJ3KH1wjiK1e7Kf7oIiuxuNrh2ye\n",
       "86k8qBKKJFJtpcZWRWz2Punb7W8phAupPJsGjtozOzzB6pKBe0dSTihXThozPwFF2ZnXYYNj/9w6\n",
       "t849ELCx1A+GAsyXxkGhYkvynmk/dZ4098Lnw4KxrtUAtmzFSBDgYN3uOtaVnisOhKMCshTl/olT\n",
       "9BvENinztC2F3cJTIzhLEXYLTa8J+LcswqRO8ASqd9d/rx9TBfavV2H0OAMJ0oe9J9VbeVUhVETE\n",
       "deom5PaKLnMpvTTSKMExOUhKnHcrpcQiaZCj27D/1w2QUU8VCJLs/qMoRpVEdgQD9UkevhBBMDEH\n",
       "UxjkiuPq90tK1O3tPCFWlJCS3g3XI0CxNTV5m0+99DH7w/vdg3TmaxlnQwLMAp5WhhFLZpz3+MQi\n",
       "9i+xZWf/bX7UV2ix/UBMMTa85jwy3LsWqvTUVu5eo1oEX21zekhlQ6RhcgXVR6H5NWZTQ6UDPEvz\n",
       "1LAV6jxILJFlTiHRNMrGcqCu0hiw1niTa3h4/VJ+T7D6S8tmlsW3aPze4+2QZRDDX+EVljqoEF0a\n",
       "Oh6YokK0q8VuVBotGGW6lQOhQ1Zf+kF3nCcWv+Vn1jzcxsMqhI0GvMTVPHlWRveGDH60lY42Srxm\n",
       "Sp0JpPvDfJZwjmzcAzVhi2s8kWxqtLltaWmE6hUFgb61/CaDkIlh3gCDbAHSKsE/eMdlCPdwI2sJ\n",
       "axYMNO+QxLUrpMOIUI6ZS4aeCMqvXvFB8rTjtqs9SUk4/9XpAB5DISd0LfmvY6PcFBBjfPrZ2E/L\n",
       "trq9Ou0UwyVsBUjVI/jOSXJwwNBFhUGKe6nfRJTSZPlZj+b/hcsxXGNHLUF67BmMiDTKkYEWYxNB\n",
       "W5s7N8iDobQEpAppfITI+7yjI4AAAGLXhADGgQAABXcBnmF0QS8AAzgDoAdLeGuKmEWuPRQk/fNh\n",
       "wdjBkCM7NDNnFi21n0kwpVLc4993FSNzqG4dJN8pgZlfoTLkUrY97HT89pcTXo9i2fb9ZcsVh7Cf\n",
       "zA+c1Hz9LeUbPQOcz8SyhuQgLTzdTIB0DGr9mqZf3HH4tszFb0Sron1VgXwWnHmGwMGko7PD1Y5w\n",
       "wumJHF+Zwgu7i4o7zUWULaOmTB/NejuC04KnLUM9vuG/UB/p/+d1nmY4BJc+4dnU9TstmVCEuuov\n",
       "A4yJn2WR77sUzDst/2n69VQLk79+yWqUtgOfdRLqJxWXO/8l+AC8cJIACC3SBv/5EGmUDSKtoHCc\n",
       "Auk81+upu7KOE94Z4ePZdyZtq9SLgDKitgj+++4FsB/W3IZAbxdle21P9tpsalheo+HVkl9eT1Bv\n",
       "UQ8CfYPaw1UVYh7MY2tjTfzPiYbORWwtekytU3gD3GDMa7VkNBuWNDXnsKmhjWEUTveHSRa+u3eO\n",
       "7CwmFYsCaOftH4IOxnJlUzVCzKGCgHR218CeYPxwpi6MCB968PwNk5PrUsW3iBqVpFGmAGS3SKUk\n",
       "o4srP7ra+9I86ePUJEAnjv8VR/8Ldb0zqkQRbZmMbGj2aE07GuZbQbyrYHGIquZACtjuUGnNxdYc\n",
       "6oJ7m2N0ztD4uGdlGzRTgEm0uCG7Lol4EECLzpCaOzWMCarnz0wuxRsd8XxgCFs7hg0AF7mln79C\n",
       "uC16gql7UIBZoefEx0yh4crOW4kf5cJvynAh0GRvs/YzcJ/+RFuNOxpMMluL05zp54diF6efwV4d\n",
       "Ik4qjzUZEkNitl4aZ9c4sRE3N2f4aULZLtlYmPCBqSPAQ/b8e6Lb06q1K2/KTGUAu4UbPypWXWw7\n",
       "Of1l3YQfGq1hIuPaxqBDyBFJwGtgsBjYXT12WNQiqUI1mf8ZVWZccWpz8fREAKoRD1MhuZto9C8L\n",
       "SqGEF4SjLHvX3MolH1bPWubWLkqTT7Jk16ZJd0aDk7OkHvjQyhU3q41nyhVdF4gUlwAJ4jvIyzVm\n",
       "WY6dKOrs0jQrAz9jenELRDz9gwUJcdXn4dZ3V8NtbNKI55M0s1XHhooOtU5heeoVHiEV9bGeMFNT\n",
       "BmoEtn/hYdqBFOLIOXeOR+ZJeY+wOx/+1o72BIeIyCQmvOvSzB0wf3i+a6JRkRUiJA92YJWZtpn6\n",
       "N/8sAk2iVOd97aD+sH2zGwvvhOceVxNhankB6tCNl0tTzwyGFTa97GzOar8G4NPx4aWcBZmGRKOq\n",
       "F+9Vlf0z0l2rmr+lMxxcUzHwQmxzv4c1E9uMoqJupnmURxmmSVI5jgdRq5OuJc3P2/1vodhoo1La\n",
       "RIMiNp/+I+k0Wfa1/1260lobNrcq2C3Zq7v5m5fa2uJytGFgpOpPYbI6lz2RbUC5hYm88mT15qx2\n",
       "wjX5/kAoMPC/L2Ct0+zDYysvtcDQnwC9Q2MWdWSWhFBa7nXmCQv7sEFX7N6lbzQ7tpbYn1t1MWms\n",
       "+oX3SXCycDWHWQPVHLdxPslVrfaD+nCfJ8QYLo7eojZa7TLR+r8Fnfb0X2+e6tZ4dkJoUYVVXPQk\n",
       "VhUteP06z/a0Vw4CkUYNI3pLSjaaXeqVOKguYJGWnggX9OWZflTNi7S20Ai5HsPfEcG8b/nr2Luv\n",
       "ke7qd5wFs1vJjQaSrEmIhsOMG1EOkWl924NqNFpB4eLu0SWbUS61CBexwQoVRYCRVmVFMMzsSURp\n",
       "jiIJnf/YNMtTVmdyjyR+eWolkAu7ZOUSsO1uxW6sQXPZZ4Sp1ktd6eLJr5GeFqkZTgv9xnO+MW2E\n",
       "D3F12lZVQdJ/257IuQT7watPtB6odMEVoQxlAoKgqVwcvXiyfDbBNIUo3E3jIpSKruP4AAADAAhF\n",
       "54JVACTgAAAGIgGeY2pBLwADOAOgB0tCFhFvUYMvz0E2ErHj2kt9NGLvnneVZm+/qFdVsFxNdUSB\n",
       "BfwMitmqT1InA5gzeDgtXD3SPBkvXjMD7pdNLXd3sdrYawHo/0zKrvnMhi/IcdYJv9AmPlxxZ354\n",
       "vXoGNhTIKlPztbuMnLZbadsP3QPJypTRlJt7WxTwTcdApNT1Zna+uKLQpOPuzBKR6Nh4+wtl1ctu\n",
       "ey81nw2JUEFeKYEjX6enzlZSESITJ9qXWTeghTd/U86/X1U/tuwPG9ZxilJQKvhpBBqy8RW0/2M3\n",
       "sZX9WosrVZwT6PAO7ym3BL9ztJxTQQS2g8slJ/A7rIhSs6WN7pTAkapmfWszDkGILdcF50HyjXF9\n",
       "/VZHjBs8XEVsg0qgppZH7WmTIgAAjoAFm4ID0Mpg29U7pWxS68M4vYa2qHczsXQ5lGMG/+CUkFQ3\n",
       "BWGGD9Mai0Eefq75qs56pzyjho9p95WWvsFqvaV4vQeLm/fT1S02FOBllnbZojj5jKxTVVPZwmML\n",
       "ej/TXbc+evGMTKZ+6opJMrIu4zeBkcA93z/HmdPQmebjY6icGx7zv2v4jJN7jf6GxGem/25BDOfI\n",
       "xZ18D4MNwBsmOTGfv7OmGHX0zWj/PcpIBZWGWBkteZBBj6CdO2fWC+s/qovyYVYsIvUbONBx2BmS\n",
       "hDqCnZClKuKYNFo+1nfqwkMbPd9CfBBUz4oXPsxoLjbTjk0O4Lmcy7i5JIZKukUznIbFnZQM8X9H\n",
       "F16V8sRbY2wIMz81bDguGhW/Lh4kOFtbVedswCcxVoktiZtxx4KX8ET3x6WuIHGl4ArBVE02UhTr\n",
       "oIidBDyFcx+TUw9UUmfQ7lazOB89i8gvcyZk3Mdp+NveqdstrSYYvlh/4bGaws7wp+9Vy2lX6phz\n",
       "YHQ4v5v7M8Xp6ok1mcQlSZNiMoqxsKIQOhBvwTBgQAPpjTmVFrofmZzZdq/x1HCsBodk82pN9dln\n",
       "f18xR+e9OEfKZkWEQwsSeyv3KbzIMNGF5tBI994hrYXQdDf213oOAPIts9hIVJAN9yMPRDWgjcR8\n",
       "PAo2k9VkBBv6BOJuzn4jrcpT80G7CAi9Zuxl31rrcvQ10FzMBV8/mS4INBYHUAmoH0jKT1a6nSDR\n",
       "szj2LXqVOMrAKCac4hqRxmI2TAnbZ0DLianorm0X7bu1FAw99nnCCJqlskMlEF7X0S0kPU1d9jS0\n",
       "AP3TYp1YE2z/zdSoicG8Z3/uOWZtuuqu/eSlkH3A/y6AhVh/Bp5sHFk9cKZ+J2d1Zx/xXLTLvilB\n",
       "Rbmja6ynprOm27XSD0awDuaGpCW/xjIGIjG7wkdH3SczcrOIQy6YqwFpusTcfGtcDESvfjHmBQvp\n",
       "VUP+kTr0/+WRrrsKVD5vSgWq0N4yhrgFmWfnbw57tiRDpErVLuu/FhW7964uIkpdb7k9LWGO9BPJ\n",
       "tdV7zCptbn2DJg/conp36J/DpmSnRsduCbtr8Yaj0pVW/8jABBdAt/XEjBNEEwlm/MWaBR0Lqk8a\n",
       "MKOQB3LG3RFZyOK1yFhsnVxyH10Q22ZD0LGaoy46jDfWL/wGEHcxtRwzoiTQTGxi6JVugXs89EZB\n",
       "mVwlWc7m5/aQEwjbMVGychbRaW5XJEmqbSeag6LRo+Ll8rwdoxvfJvnAipKwtO+tyztXTtXjxgoU\n",
       "yGduQkXHMR+hbBQywGht9hvpDxHTWOQHItCeWLMIKKTTIf0NLjW6rKeD63bT6pJzud/NsS+Htata\n",
       "DTMefLCgadSeXh0cPXz1QjZ/UkrZmzCYUX/eTQblizdMfLWH/NuQXT5Da5EjJ4ijTzRr7FtmAuTs\n",
       "frJtH3d/ZE6KVtsusdSYBGYb/mqfnqVN7w7FxlA/UlZ8N+mxBNxyzQYWnrlrUZbnwTj4/SreC4Fe\n",
       "Yn69lNrkAPuB561zuAEHAQW18qjd1G3uG0xzJy4K7JpK8mvSHsBhw5y7LEx+gmOhEs3W54k7N9zt\n",
       "1nJXpY3dW3/z5LWL/CWoTXT3+Nw0vngBUvHwJTz7vH8WsBK9MsoS2LXLNS3smFkeVzE7cR/ETKH0\n",
       "iQxXEqDlQ0akhr42E3Ex9tvNajgf9T2/oOvAX9sD4LhdVycA40dkATcAAATwQZplSahBaJlMCCv/\n",
       "/talUADUXHdoApJZd9t/hSDpbdqcWyOYFODbuwYFQF0kxWUgMr86DDMniz71/wDFqwxRwqPLA5do\n",
       "ntKYJk/yFOG3oTQ0zr12hRunUQ5QFkan+vpvHble5ylio/T5pDM2cQT8fFsKF0KEUoXb5SyjyiPn\n",
       "35BRNO/UvZQ6QVphEMO1H/8XM92LvreAPaC68jTlWqFUpatDxh4lh2KyxSsRntvaee/FH6s1NMpo\n",
       "OXOLnre85qmyukfePQRkbuCqqUua2XHLeVPdwTOCslsOwhYL+cpEboIDldu+JgF+bqAd7D6UPz7l\n",
       "zlCj98b4PMKlFsLuu66jkNGZuXEV0KpyVsOPurZi/cTyhaiUMbD0kmiORXOdsKYK/KFbaC3bOG7p\n",
       "Rqj8yZf8b1i4hFF+GY4/4bkKNYE/AByaO/6miKQ3foNRtPPKubVxSemR2tzaz+74CLzsFa5v6Gyy\n",
       "s1+zcRichOkr+RU4YKQ/jocxRg8CFSopNDFBils6mD1Jmku4tUwMiAbTl9KgB46kAgmTpaf80qEC\n",
       "b7mJdrfPJb2CaQGKTJMQVyBp8Mx3uAf4DkGX0LnwtniiKBJz0uZNQr2yCi94RgWSsU27vzMMOp1/\n",
       "CWB4+EoPVb3IZn5bkqBhiEVRAD5TC5wgiD09Xxp8+XNAvKSV8uJQdr17mMlgmFJQLbm+9dhR3z6Q\n",
       "akUwfC5wDPr2C2ZXNh3zq+6k8Q/mmH/5ysp0Js2fnDbKx9bLTqX+hLDVkRyvLAQR0F9yWbtu0Rin\n",
       "Eu0cWMAGgZ5mwwU7wOQzEUB3hdFU5KJ54CYXJ1P0giP3r6uDRUi6jw1DIf+U6HzGUZwsqi+5LoUh\n",
       "zCY3HBUj48DYoqQGOFlAJcRc6bF/ETKrcaWWRGa+vj0UdzSv+AG8CcFW6bGJWFTZTHyZMqEt2aKj\n",
       "1EH7+2sOi6W4fKSbvIhEgkab4crn2MZzy+w8iMCyBI8Oaqo8mteRj7kDDFlZuHkEc3fuJ8FWp0VX\n",
       "ho5AXde9/znX/PjfdZ9myEoy1yMqHTHcfb5wcA8RxM69d+/gPyOKUUTIQW5UzKzaRVVXjcHdqhp6\n",
       "IuNKf/AJ12ckG251zM0feqo01h6p/erT+/NfFMy86gMxldQS4/LGtBmSIaZmEnFByOHPoIFG5YOO\n",
       "C97V4kSoDjkUp0JzmrOBJSZMBmGV7Nk3xUCrLz3O2aEOnVB3TPGLZfu3SZ34fZLiEPN8BQAn6yME\n",
       "M0eVJusD7V8RIrvvR3ndZFM8Qb+y6daljkK8Iij6koKpGniWjIzS1vFGecNk2vv0KJ1Cyrw2CecR\n",
       "he4HXaSJLA2bnhNWvqHbxmRiyTZ1V3Ls/KoitPnsX+PsZjKVB1ZTyRwaX6hGQPJ9X2Y7NqfkdtIB\n",
       "DpPTvdBrh8BtPfjqEFDiLsMsM0g0xGz3qO3a/9Vh9lb5NZm6tLDjk/+4d3KuMjpvePIaqwzwEFZK\n",
       "wLfNfjH+JxYguuoWlPbOIsLI7HXyIWjg1Yg3vn+CCe797MJzOfCpOsMC9VmUnU8zHzT5TDvMK0qU\n",
       "fOkiuCv2L58PA54fagQbTIyT5VMXYnmhi6ySNxuq9JJmdvqvuDi80hedngwZzpq6zN215GxhS60J\n",
       "HNDNMihmFPZrDbZfyupRhByP6WBq4sPfnvxZSdgLe2mvnlPwby6qtwblutlrgKv7c+IsVeWNcQAA\n",
       "BE5BmoZJ4QpSZTAgr//+1qVQANRa3l7QGcps0beQAHqAsvYQz+86nvwVn5P+rQHiUTw/0M+G9Y+1\n",
       "g/a7BTJPgPAoAQ33ZAPJ1d21Tl0x95kJl5pDAx6mnzKH41gau0zxM4w0LN/ed64puoRq75IBgdNf\n",
       "JumY3Sr4RNKAAd8/19u4mZHjjJyIT2S4NKcBV7EhdKtH9K8h/Qm8JPyeIJ1QT7MRnkdW6MtgtiPI\n",
       "Jv4wVfHSFWD5hL0zmwwWwGyzw4seFIVfN+TN+HPWevv2JxDkksdZ6HLtvNeInGk7pLpgwd7opa6n\n",
       "E7CbKdL8bdGAUOL0cmyZTk3xDHCa7B9FKsuzlvs2q07WoBCQg9v+JkE7KKjMFAhc9kkCSODFRgVg\n",
       "x2iCZNbNMcyS6nhKNKYyzmuLrW62ORWX26Y72dyZf2WameLvS+KKJZABKBufYEj5aryduaTRG4mI\n",
       "8yhuUtA9UpOqGwJPaprAWOcTI8XSULz2olECLHM2UzZwNfmQFsFegwA/eQf8Ie9OAnezBx0YpOz+\n",
       "7cYmUKZubDf/2uw2T6aNodtwkyqolG2D8bqNlOUn3xe5QwW6hYRzcFnURy6+g85rvKMKUc3+xKAD\n",
       "N/HDtVwKNlWBhZCEJdTX8FoD7XciLTsvtEvGnKNc72uv51fVhdnwmHCSRybsfeFwqCuW374X9a6a\n",
       "Jm2InacOF+MgpdR92Lj+N3J7HVUuNnwwBBCGJFCwXinosCBMyfSx1wV7p+0AikjkbfFvU41RXy0e\n",
       "DbagGEUaSceTV3epRY4r1KYpCeHO3FYIDErcuIBkVFzGLowWHxyijssqdq99RrFFyahQPAla0gWa\n",
       "ToG19SQ199G3Kmeqy3HHh9De9y7tA+kCrE4W0dpiIUsluX661gplPpd5M+y3WZIat3EGCpBcPhwG\n",
       "G5NCYhyTtj/cVh/ffuDWOi8ksNP6GKtvgCvyR7z7B3/aiXFGmlXXuCS4/hvuV7ULpwfm5AxOCPAl\n",
       "BNzk31+jPGZHgA6UFoaArXiYbPkzJ56bFKLVekLnM1PXRw8R/9c/GcEgRfhqO60DqOTz+/KNzmQY\n",
       "YDQThpsTU15tXng57ql+a7us0FadrW5rDarKFAVH1kOt9sLefqHX54PIJqOROj1jW9VlEc+mC0fl\n",
       "t/qE/U4s/BNd5JZ28Y3B2J3HdnjRbr0lOHEu6OFlG2Jxh1CoG32I0m5LK80+oC2WJyb9Z+GtgF6E\n",
       "SZNJqaXmnCqxbN4ympSuwWnquJ8RJjMBD02dNCM71ofeH0Mbw2DmzL752DfmkIQnSpk2FlyA9PrL\n",
       "2u/0ocdywNaBIYJV8vJZASsrG7bwPvo9KdgUo+gty10sOSryA1TCh3T5+X1yFyJPSvDglhlQetaO\n",
       "3x3ixZ30lixZi2g4EL2gb+mOu/Dvq7Pp6k2TGXdYmSOtd0IScS9rDFKH24nnrLFtfCzzo5yCsJjQ\n",
       "esr0Z5hrzwi4x9Rq2UlZu24AAFlBAAAEDkGap0nhDomUwILf/talUADUzLNAALXvm6nbf7GPOQUv\n",
       "UEUGX1C+PM0uZforPkpijoWus0f6J5vdZ7LQki4u+3tg9F63hoC1TdRXyUNUeRdtRj89oieh2s1c\n",
       "vVu4Ja2/4XDf10wK4qc9Nmo3nRyHCvXcF35uYqsKg5xzCwodX89VqRnBrGWF18BKi071eBjM5GBE\n",
       "9L+VLDoryGbMG6nRhE29jwOaWEbAkgRCdToBL+bd6z0z2llwjZePeRN1WYEJKYHSPB6lP/L3mC0E\n",
       "w/EEsnSPcVaxk9Z9HOzSjBSwUixq/Jlol2lq2NjsVzOwtRgWYfjKlozxBt39VEZId205q6xy7l6X\n",
       "BUs8zZlH6ooGrubsQaEzT4jdNPel3+0jqEDA4H4zZ2otayY5m44ADF6+Q2q9I/LuWk7dULZhgUdA\n",
       "Ne7tRQx/iPnREPmdA2xV++pW3d3cyas+6HSAWU5vpe2xxX+KTzWsmZWmPm/fglnOqnQ+hqoqvxJV\n",
       "SmCDgNZ8Kj3QC42U8x5g8DrQ8/mHqN8p+bPs84QvI7gItHG62chBt1/W+UKUndGQz6MBBxEmIsnM\n",
       "dAsS+832R0BffnA8Ol3MgBaAp3gqm7eYetsTrhyFswzeL/CYxRt6npesfrYNpB+q+/cCxpENANez\n",
       "RmQ+pBJNcAEVkuY5VskVHXR/ukIrQq/QgzScPNy+xSPHNKiEb5Ok677wr0JLpMQbhoxs6Nz0dzWs\n",
       "rqJ0sD7ABCh1R20thLoWzFuWNh5cwA6Vh63WDrx7tPLQZL8DjZg8bIehLci9lsxdIXtpZjkD4wWM\n",
       "Kj8bEjZ0BbWj9c8r0OPBIzcC+0k83n5Rl/t4d+bI1yUWyfEm6zJf/w+Rx7uXGynIN6uBwcqtrlDl\n",
       "c6LeCNR8Kxc93p5+WwxMrgiwgWWr9Xric04uA3JzRqP/3lm6hJsTWwSXSCnN5iZ19jOt8a1GocLB\n",
       "dUXOpINIg7lJx85IgUD6yztuXA8yxDQYrJpoEXXRjVh2hpresgtlNZdg9ERDkVeQEBYv+/4mB7jC\n",
       "8RgA0BP7SWTp+8qX3N2F0ULC1xcoxs3EwqntMH9nt7w4DqpfG09uknn3uK/woOB/N8xPd1qyKL7o\n",
       "Rds3WYkS5hD3vevTgyI0TUxsct8KmbKhoA3fM4M48tlyNNZRKNw6evL/UUYKz+hEiYm1qOLWaw65\n",
       "zrnncLU+/lia5li/bXZe7wCqGQcd6tXHnun/AjheY/TBd48oapEuKDDEM2M3a+or8ZmOe/EviEJV\n",
       "Qczr8utYRF01UulmQ9kFyKvmB2TM5YSHzdiRKmzj4kMrk6Y+qXNtQ2FMBuia2Hpdc51XRhwmyomT\n",
       "Ef4Q8MpaJ8XNafTcMc7KoIiST7yVTU0wma62Qoaa/VAiJ3ikBQAABoNBmslJ4Q8mUwURPBb//tal\n",
       "UADUXsNKADcbyBJBTvIPq8rafrtD7+QBnY3EUpqn/N9F4MkD5EEZSpifz5js+TVRkXmzm2NTsP3p\n",
       "EsPGy1O61+RmxHDiQKwPBqLOW9shK/oxwJe0yTaLHwbuePKvoOMs8dOdXJ4VQtewKSzRQ/3IyvN/\n",
       "tuAKHbGQwmq273Cx2kZbnMVDzpNE54sMfgDxpwhZ7XamJe4d0LmmIQveffvFywyJGmBFmpceuRc+\n",
       "SDTlCmwSgk6ZyOZTLtUsEC3K0IO8WAYH4xFJBGugqAlDk3mQVTk1Z8601Cs9uJcGMQjRt9FHHkT/\n",
       "3x4hG07Aa24GSArFjAEznEad6S44NADF2ulHF4Fbc+L21lKtk737eD9MiLClwmKDSKt2iJSxd4RR\n",
       "7Kl3eBIBiLvgqGB/xLzdbuM4hFHSEWdbm9DCW8bFgV9kXj2mDqylBeAso6fkfKvWAEaciXmFVlOb\n",
       "LrVyWRI8ZyLiRDcSar6oXfcc7nQGH3fkfOFVjQbrBXN2NhKlJYsYtvg9mBts+vwu7ueIya0wkcZP\n",
       "8gjCwF2EGuG0JNmPPkGFRGHBYpZPA8DCh9RFg/QtBsjWHJvRH0OKFa2H2q8nlsnGPdMPwRn3Gd/l\n",
       "q2gI9xutuCYfcVXboX5+PteCw1hqtakGCh/1UIkcx/+SEHfvY7WUJjpzY0HGUEe0fewGUcnwkimH\n",
       "ZFKJuX/l2C0ewF6vNb8rwA9l+5eJfCDSjZ9JHxecGLAjho/Ext3rNjtSzN4V+s4Kgk+S30Ce6T4T\n",
       "X7wa6xR952XTy6lPLOT6ASVrSU7XnwA8WyNJKtKhNyrBH2Lt3FEUhWzTiIK4vcDViq4fZg/AqdSZ\n",
       "OFO6DeSllhTvJbHeW8mqmivzAoX6nhC08YkI87mm6DpIKpFWX1FgCqhrXbyFjsImvLDu7gAVX9Gc\n",
       "dhT6l3mOK0PBSE+Infh3skJMhuav0QhmJD8IPInav5eTbjfhLfc1+rq/CFuncT3jQ56lQahwvzK1\n",
       "XEL/Iz8S3b0vjaLoqMD2MS19HSpjOcm9fxA7rdcj28U0nDL2TBldB0kpsY8t6ifwHpsX30lu6wia\n",
       "Am90DEjL4R4CWet9GpU03uNfHBNLB03nRUTEdr3lxeQ2hV8h9YKQ8NjKYwhvgnXHfWLukG5pmRN6\n",
       "yKCRKlMkayEt457+XkqEeG2BzsC/YbkDdB2cJKE7GMaSxzrzDGotV457kxn7UGaRH9xnaWIjKqC0\n",
       "htAdNew1AAqurKCvnM0QviOTnzeMAVj3WxIl8+0E6PQcxrQK6/5tv36KzMqczBxpFHiGKFCHrJW4\n",
       "WNiLB4N4Dob0BbiiPQIS4KXXgBvemmnVlYV5XUDBBh7IWQt46GM4VRWCAl26XI8G3m+72C5PJa2c\n",
       "Kqt+O/REUfDBLcaax/e7k2TMLEASl/USHYUaIkLXAMpWh27z1AF27neZTRlwfQNqGyhG8zl+79sx\n",
       "lP0iI2asJzSmxFtOn3kgebTWnV4cdGTDNnLP3pnFaAlT3LIXX/4ox94mhkr7eCqFnyX6vPuOl3zB\n",
       "4Et5x00uxUl0GJg8bYkvhmj/fkGrXmuyTTjQeidtrQ5f6G4OCIcqLOJQUMYZz6/vNVfwAbtxTdgA\n",
       "7ARXBblydYYvQFu1o4PSADPCD3d9BgHpKZc+6zvRS6dBx2xjH+vQlTyAZrKCZvho0W7679o1YZXM\n",
       "tl1FtWRCMFZFwuZHQemrZnrd4F1X+PZ9YNM0BFa2O7jXMgMaCLo9otEUP5xTh6JdlGDdJk1hOxWg\n",
       "fHMhHD+O0GPM0jCX1weJyKbklRE8XKj7OTmm6kudHU2KIigOKYfZQo0GJor+JNpuZRJsfxKhTw+s\n",
       "d6l56uXa1iecYWXrj2xOOJdWiqviGocaJRPPsLuY4SaH6a1OuEPT8/SmSDxwY2gufsF+MFnXZ17j\n",
       "enCQWyTQvMulo3i13H+gT1JZnXeRm8dI4rpuk7VXIyKLfCFUKMXgL8Guv/W6pqJH8CwM13xLAA6w\n",
       "NlIjcqAqaaOfIi6Bpxq9RwvzmuIgU47AgcioFDVn4cCCbL72EJkKRuV5PIbARBOYB+ri/9aeoWas\n",
       "RvUBL4WuFW+f8kpcoTlL3amOA/FLPIIVB+coH6/Js0GcI5pzJ0YmJfBGwxnfvdBuqN9rjZH+GR9e\n",
       "jEyjz0FLflCC5htDhNy9bTkm9shFRQfLKqPolb99yyLc2ijR3fdFSEtchdAJEqcKPjxfGouscwAA\n",
       "Av0BnuhqQS8AAzZQmd2fNQAG6fqrJ2MQwbo/FGN/MFLx1pryOiX3wq5aemxoM4tAHbclxdO/prHr\n",
       "AsUtxpqsDJcDdoB7OtI2mDVjLUJkTuptevQy7YJ6DcJ/+1l4PjVT795zYa3woPnIdDG3e9/xDAHz\n",
       "JPfgtUMbymgmwfAmHgVAdM0O078qHdiqQdsjJt7lLNcXcwVPYkDNWl0NV3Z4ZX9uivusqBIOolmG\n",
       "gvk0ibfs7pHq7CCr1jWytcr1WrUCY2nyq6Zwp5vwgGr9URVmyYR3ib1p4P7N3c1K7YKWQse6lt63\n",
       "hxeKieb+9Lm2A0GU+2sZYAIv3BJSRCgnh3lkA9546ias2IWWYEeky607sL8jLoy06nX2Pa+xpWPe\n",
       "7XRR0a/qjZyS9i8cSDeMcxXnJ38XczSUVgZlzprfFmny2j6VVb0PpjmOp5d67mbWBX/eibj7VKer\n",
       "H6nZYC3IrKMOlKkrABChduk09v9gZ6yXxiw/3bvjCVK+mjhOnZuGuk1Um7edrTGoLAJR3Jbya/xY\n",
       "68UgZiQ6gMc/jHAETvq6vOSjyS6pgfA7wryky97egefSwi1R/H+3wqxWZMSzIhfKkJDLbYPKYGLF\n",
       "ei2meYL0C7z2iOXoMMdAHSUPs6KNr00SjU5VOEiguekqULOveVSpMOexpwHR9wPc1009mzk44gd/\n",
       "7PdnxUGN9rB0RpLSczwY1mTN3+LVNHKgBb2K6BiH/NlB/+jDeWJzDz9UcdkabH9CHjeuXHYQrKys\n",
       "z0OxFm2CM015DbLeTX9+PBl5kvKixrjQlerILolGp7F31QJ9XaxxCQkcjaIiTffOO1xOh48UEPBG\n",
       "mls0YQy6L9VHK9oTW2WK/jI0cQK0rnEWPn50vawPlf8bBDvYHrPhSpZEDDzT4EIblk3KA2FbH0Jg\n",
       "IchD/xdxNLXSLRQuq432ePzwr+qB4+weXM3aQ/rxe+BErV3Zec0G6jouBh1OJRXSUYRg+AwFZhdM\n",
       "MA5lCFk2mMjGOaYWpssWiYMFPq61wPqAA44AAAb0QZrqSeEPJlMCC3/+1qVQANR6JcgAFr4BPnn6\n",
       "D1DGwrmuDrL83G0dHlfK5LJwLmE15Xeggkv4haALixYSLUUnjQIwpwLJKqiavA94smwistXTurPP\n",
       "UlI7T/S4ug3gdu9E7LLVZJjHGkyS3yCwpw9o6gMrDyNTVSb8kPWLfpNlGsfUO4RSzwoYE2jh2w7s\n",
       "ifUl25HdT6WYxqfj6+AS70DwSvsq/eV2quh9DMqx0o8t1/au/3PB6hdFK50IIk4bSIDi87vbcZ+d\n",
       "PE2VFC+Z5spUeyOBZnqS7PPI1YY+RnbdrcT+n+iMw7BWAGZGoZClllakSRqcyrGaxntXA///D0UA\n",
       "uyk1zcI5PgKjGAzurljZvdFUgmof1OA6Pl3t3Njqns3h4Cbe/whUPyBpm4Kh85sW7xgEACvnwpuV\n",
       "kpfm0WvRL8sZQNBH1WU3ABNUPvpndcDPRExK5WC5mqIeStq15grxUIoLxp43blS+//feIbCiOm1K\n",
       "+6nBoK/pwzzt/u0K6T3bgJzGI48NXAVQLauXzMKaGuxJn/kX7nwOYkuN+iH+atxDoHHW10i9RHZi\n",
       "1NWHKUALw/NFC6FCsAzaIs9gzdqthkXht5VQcic9csK+tRpDfihY9T6aVVQWU/ZUtHMuCm86k+hZ\n",
       "lmwXXskdn1CKyaeay5hC2iKBvFb50FN5KAhYGp0i8YljW8hYlNZuZRmo64AHQgxeioJanpItZ4k0\n",
       "ZedkcNox+I5z9ymijDS99Sn5/k4jt8AGbQHaZv+IS2VsUmJT/wnM+Xt+CQ5104hZtJpZaaEhTRkx\n",
       "pUorKCfeVfn6Jbtsq9RZwtShRBq7QUgUUi9iQUhsjRCypeLJ+7oVYxRWo2sIT3vyZXbMqTRKGqZE\n",
       "ZS0bEXSy+hoQH/hfad+WW3qujuk34FjOxv3LgBxLDPqBGpk+0p4+NK47O5IggljyyQuxbssJPFAY\n",
       "WrOS46GWiTyUzIbS1vVpj/8GF+KF7KXwgIk7UrOqMrtU8nF12CJHppjl0nqzUqoW/HFfGYy914HY\n",
       "okbRa/v6lzt+hwaVWDIpGisMNeKdWxQNueeGOYClpnHKScol+477fBQt34/AsSvcK8t0BcO4FuBH\n",
       "cnK3MSTy56lsF3m1cN6lZ1HLmTYShNcGfa3U+YnFElxJHEPpOjTmc4hgEh7f7WB50QnqOTbfrqYl\n",
       "DAqXWTCY/JRqsx8++15+WB5/9cZl4HN7q9XZKlzoqaJ7L+JU1/rLjs9wlgOXMnPmLPTAPc0htuxb\n",
       "xzHXEqk0wZeZjxziH10aePS0BwveaZjw3u2r8rC51It1KDpZp/sT3ET/qfhZ4EUHZL52KS34Q/v3\n",
       "M+ZGgGWWy3Ag9BcSOe/99+qv38zgoQjeNs8IFhM8BFjYqOJNbFiOZGAnGvhcXAR4lF2y67Rn+I7a\n",
       "2NCm34LHQkSdu3irirzdjvRcFdyyyM+wTd5bGSmRzzJY1iqu1980Csqvx6pZYDqdfyBojG3DhMgw\n",
       "YKuItj/cWflTTSQxrp5UVTc0KftN+lScY7FH+QqvUvbQlZHg9/Ll+XEUtPDtpqiGTyf1YdF9VZfe\n",
       "MhP6sUa7H4dg/tTHS3/b1qGnT6nkxVt1S7QdAYq/MzjRNpQgMsCimO40GJlpOlY/CCitYGXfcr1g\n",
       "7g03g7drX6WCIJLIM2EQ/typgj9NwMS/4trRoZnhpJDMbmf6KDpcYuHB1UlEtoTb4XKYpOBZVxBm\n",
       "mktZXeCdruV24W91RbxRRSyVSKhuYIzGN5+2y2jCj2j2R9JNqjGTryDEmJDd6YJrNQdP36tfmqdF\n",
       "aQXLqGyskv3M2GhvEg3Ts+M9Qf7dueKSEDU4j8K30WnZDNd1lsXLWgD4rioBHR6kNrFvC51LeyTE\n",
       "EAdjUIKuiNnkCBR2EVkij9DSPhSkSUDh7TcrnnxbXtYVGzgQ8J5BndbtYM9J3S4cE1L0mPvQgigC\n",
       "chisz3+vhSGe7ApNcrPUBGWB7o9GcWDeGs069sL6lWdRsEe+R3Zdse2dMqHDiFVkRay2Wj0oWo4v\n",
       "zhRHjxg1FxpCiUYH7oXBwgsf24Xwb/+kRB/zfCOAfM2WUtjo9YsE+63TxuJt1K2nSwhWm+7LDhBy\n",
       "NL2AK4JFAT46rUAgsvZ0KqAsZz88X6wlD9bBW+cE2Bf1bGm+nLVS1rrVQzAnnSXaVAUv5i/KnjUJ\n",
       "9RO3e+XgvaQqhQvYmlFlboKBvA63qn7rN6tWEGiGg8f5rNutb3LYk5Px3OfiweHLrho8tM5GOIC4\n",
       "/tbcmeO5z21kQGAuEXsDCvTzXvchdVYkoW/A9TWTl53xdwH09lU6FHm2Rch/cZV2Ow0vnUwNJQnR\n",
       "5gQ+VfVFOBaJlz5uHUUX5xgsIUUbNduAAd1xr6vSumqz0ywB/0bw2PWm8QAACFxBmw5J4Q8mUwIK\n",
       "//7WpVAAz3EGkALa3g77d+/wt8CT9mKiFezhupHAogulvk0GoqGxDce+1n9fzTWYZPdP0IHzNPC1\n",
       "IFCdA6qikC9ZMSv15yFUq+du6/eLQL/066c669HcNdwi4t3H5CybWow8HD9BJO0CB25Nu+bxN7eN\n",
       "XDPYcjtpa4Ej0E4NFecy93X3rr9gQdY41W//GT7AceaD2DEuZ8DowUmj3/6/zooloRUBDn6pHEGR\n",
       "pN7DxIi8EhEoDS4xbqitfM4gw4wwCufocy0qBUC7hRVAZcSEpb0we/8SPMpbe3fi1FpCaO9OlRh3\n",
       "O/8d2cM6Ih3O9Dny0JhF4buf8tc9GzcJPzOHmsQlQVjjuAIkGDjnyumpGXOKtbLWCbO3D0WxfgW1\n",
       "BWQkTdqiRgXjlUNjv+KIEaguq70cxEjaxRJLRliJrA0e53j1sh2IJvH/hbFJSj9aJr0MOiOc41BA\n",
       "aL2U8VxxXZMYgEtKG8W+Dj/fDjKuSN1qSscAA210UiHBmLcb5d4H1+5Wtw+rGYnfeSRCePDnxh4I\n",
       "fYVCFJJOBaZVOtt3maE8COwA1b20eGeiaOVUAfs86sGbS0mqGSl0Z7lnzZSY0v4IUvfU+i9Dz6xC\n",
       "4wqBlIleZZgDFuO6wI077mUpUH6QBjPA8zj5Zk6cAyBgAZejpFhjMUsELlyw6UdZd7ur6ay6zaFX\n",
       "+oWrUS4irLFpsefAXhravJklHIzkL/sM8oem0TAABoqOmzNyYTG+CoaTAT04un+qQjHLmx12cyD1\n",
       "KEZCRMuhMQhlsP0N3KLne7nzNl56EyVayMPVFrYC9Kzz5N56jfHAcfwfAdI7WDbt61KI+M42lITq\n",
       "BJJd/67k2wp0GiukcXNtZoxsfUGRIq7nTGrA1YhYMfK00xrCj0AOFaZs8insv3vIoQO+cS5yCxXY\n",
       "2eceydEwm6OtNFfhDMO3pM8vjLcdvi7aWRihdbxHu8ruiBWANmdfFJNPM5qYnT2Xdu3qF7ZBMQ5/\n",
       "SQhey4E1x7DPyZffKBvAxTnRVykqD+SS6E1d0Tw349rjfeWdooasryty0fjgnse88eaQQlhpcKT6\n",
       "sVKSPMGm5sgHSj9gUB9oB9kXDyo+69le0aLaM9kNloQ44rjZH7+CYehkgwd6pt0UEKb7jZ/a04w1\n",
       "euxNBssuDRtP3OGO0S+ruJLVsEUYhx1/yB5irfPI1fb+v0jQ2xH82t9ziGb7hV6EjwxbHmvbOMkv\n",
       "YOEljLQ5JHOHmBfZseLNWwbsz3ILA8vFPBLx/yiE9aZU4xwdb3I2efWDnloTtE2vZq8ahDxj1BXf\n",
       "nF34WEGRoHVsTu9KPUfck18Zjx/CI3oSg/cgobwvXMXR9fTMksw6YkqGM8nrXsJThEdYGnYr+6mB\n",
       "+Osl4oluW+zE6wCe7gLFoFvJN0Td38UnoLH5vh7qCmzBm8dmP8q1+0GCQPgycjnGJ5Vk4zQF5kTQ\n",
       "57akvdDSps2yLKNwPpLX8yTgbHWrjlK0A2cGLXWvrOY4XyKgbIOOBXKBYF3pS8ucmgjMYCXOPl0D\n",
       "5m5IC7Xve+2hiP0uyHMQRVLx8Xj0FXslcrh/Pil4oCF+lQIrY4UWsmd2dCF51LbqciuQy+W6d5aB\n",
       "W367jFVMBvOjRHLAWyzG++ssc757BArN7p0Ao95qdCVh4Edec5aIwEd1O+4OYRf8BmDNfwDUNBxk\n",
       "E3vpemSJxVUdBNpK2EV6gp0xiP9jV7GRDjoS2W5fclD1xuufL+QTmdBIdXs+KyjOtJiGMRz9OUfh\n",
       "ZCrCsUytLtc5tcBBF1ykE4Kr82G4AhHlM+eMaMqe+NiaYe+coqadFDE/t0r6jybFp+AQ5c0hgZf/\n",
       "jvr1lZuq3Z9z9EyZlpOWah6zy3wEQ23joPtzWWeTXEfWS5Z1rkje6XuZnUuwlHW51141ym6ZsV+k\n",
       "ijKy0Ezryy/JAYqa5WrTXcElIjw/nT2WBQQrlTTqOdgACtMYvgqFE2ynoO/Gtgpj7bFNi2Kz4/hr\n",
       "mJ+hD4eZMPkzJgGHVuD20L8MZXji2V8XNSjBtIDa6WW5iseRO1vzWolWRdaQnCFat+bKmrmqxRoa\n",
       "ISLVIsi9PtbAMgOutNW5ll8NU9rjzOygf9xSYd6Y20rYPpjhvyWeGoGvUe0Swq31fqt59C2ct3nK\n",
       "wdtSDnHLiPotb6PfVUUCtyHhOWsrM8UE7T9Rta+iHdFjLhlcocPJ+5ertm3XBSCUAfCH+4Nb0DWr\n",
       "WwtV4ZmQa+ndEa0XZ5aNKop8Elw85g4eIa4rc08asmiE3S+OL6OynSlwKeXAzvxrkjPGmSnEt2UP\n",
       "Dfg352dGqKCpkSqFQ9GRaV/5S7xz/E2KfGMarybBaqvL/b279qEGfWLfyeDJ0G3KH9IEV3+T7CTx\n",
       "9I5raruNWyF3fkIRHsrulo9SDKHYi93i2ZJJ5Y7blEMqLdH7VCU1vm0/EcLSHABG02EZsvxFt6uO\n",
       "U18EEAAfm+RIFtao/mYGTFp/BKuKA/q+c3i3yOQl78dSato2Ij0nmULQnih4CWPE2wh5FQJLM4np\n",
       "na8BBvLLA/zRCkJjtEWxybVQLg73xrXB/DlPQVVr9T1v66HjAUqly18uxA+VC72bmSePVVC+p86d\n",
       "kuiYHNqwHaSnv+HXyif71P1kLFJtqAw8QrAcoorqJai3y2pyqof3l2w8b2WJXYlDYYvg9KUojuT1\n",
       "vLUisJTeXU+zz0iXDtH44PG748wSdAJYfJhIokgl/SgiKtR3J4FAC03zUk/YcnV1ibgAbmOLj4hP\n",
       "wpfUcXlI/IRXVcZcK9jfKt4baNv6DlrYhqzjvpIOLw89iGFiXsrQ09uHmmnWedrgU1j7+BYASPTk\n",
       "9B4JgtSzZG9sETChLvRtkr02VkPIAAAEx0GfLEURPBT/AAEbkYa1gAbtZLhUuL6SJ3ItC8bQJU4/\n",
       "xfqbZps10nHX6B684dAEipNpvH5INsUe3d8KUEW+HzIbJR8bgUqsj97t1b+zexbOxmErklb5AQ9c\n",
       "GT4HMJIMWC0YjANgxcL4lbzhcD71+hzEEpWyYRy+0C6aqzVXX/+C4Gi3KcEuTt33D9h4sVspHr12\n",
       "JQG1TbHmpYJ9VwrZhhewW4Yg7AtKv/Ogsrv78m7COpjKdupgtMPuGBJpUh/g9YmcAVHAnauSRK9c\n",
       "wHJnI87ZC3isVg2ZzWuGr/zi8fWSHyTvr7XmOzR9beODHfFJBzYysev22hV30/xlrCGtIu4fW1Ni\n",
       "Su7ejyeKXdcOADcNWUT7hiAZmJkLv9fzM2vvTE1prK+c7WWeTDBK/QVlP/1t+RUsZH6IMQ6fbLaF\n",
       "1NLdS39sQ7tHkJJhtTz+iYCTe0bHBgbXHRnISAmKjQ5mjsKTceBSTnPDqTbN5In14lYyjyBTH1w2\n",
       "Eu85sY8M3en34+SqMFTdIEtWv8vaRpkzG/wPa5cgpK3RE3FlKOOzv6NrDSY5WKUtAeSErAlzVuNK\n",
       "QFra+iIWCN+ARJvWhLF6926shgVuUxo/Wl9jj0kz5lc3Du5XBSwgFgWSDu6JbGDMp30Avb2pKAmf\n",
       "fnbzLA+LbW8IUlP1t9LzPiAEhMgM99UIMwrCGnvxIDCyK6nctjCIFlX2KNIJu7ySVvYaJJ17LS1e\n",
       "0Pln5bXnTKsmPBg4+cpSXOMMQakhA1F2o1elfPFAZt+GTvihmXHVPlMs3098m1o0BLAtbE6LYV+s\n",
       "qsqB2de7xA9ONf5v1LQNZWRf70hQoNr6sb/2RQyZ/Ayx1ibqWCAXeFJuHUyuJT3UJU6//WdOV8sE\n",
       "xgsEg+Qk5Zses1LZiEC7MrnShS5qNH79QS9defrzDk0tn7fT3RlDha+NxsYh+1I35n0+tS3oOQgF\n",
       "8c6RWaZVH1FViv6Eb0EbsAP2DokploZsatXA8L5KV3219ba+z1/ugw8Kzrpwvfu4x9PokSBd7E7O\n",
       "zA9xKJnq+Zi6svU+TtNxUFjN2hvIMpmFairEPZ+/SqMEuhlZQ/G4cDLvhnvekI+DQhXaRm5gDAZY\n",
       "JeGlWWLPDc556Y7Yon/St1nTBqKGRrepDpXjdH2UoQbQZGzo6r/arv1yXkAanLSDdMoRHR6195tE\n",
       "EjwupCxMlHYDdAOMGDjsOdM5tUGy9J4apd0HV8gmisYnVwt8+8zZmtyxdTdpNAkqkXXnvin3RNCd\n",
       "o/VGFpmFAjLu5gAECAJfzUOepQlhxzU8OsQbFsGB0rOYwufFl0x9KTJo91oS3tDibch/KhxzWzBt\n",
       "Rw91Jq7X5uFj2EZBNds5tGmZ2CEAFMyR6F1Nh0rec7zoHWOSBIOA9QVA3aVJXb7uN6eA7whMxB/7\n",
       "1Wvzu5ODl3wF0HNFWnjhGvpBvZrekNBMrTIeI4+7lFYrNwdYh/lT0UUO/MnIl1dSnVhxS1lRkT69\n",
       "T5thdFOAzfQnFp0pWI6DCEdxz1eEXp1qoNr87kXSIe/8cqzxg3F4sT4O9JtLallMLWtAxC6HQjHG\n",
       "qKCUQO+0QwCs1YYVlu/Syrr7egJBCMKetyrPKvH+8l/IqimSSZ/B54CAwQNIACiW/+aGAAAELAGf\n",
       "S3RBLwADGjJLnHk2AFtIWXCC+jVBXZcdapkQbu9BValjU/2wqf3lWPzI4n1LZM7Rk3eHDnnaKQPp\n",
       "UTrDMycM7WbJMh6ZacfLCLiKGWBMKsE0rTbuagUakaS6MPxN6fs1y6+3iBj4sw4NUTiyb16k3bHD\n",
       "ztlo9LIC/7/gvxa5z93Ks7rhjI2K7deo1KPaP00IuEgMy0iKz+4Sj3gOeuP6VEJoqQl9EY5tU5XH\n",
       "OSqj98lo/Yn0QmGIjLUPAqMf91+TASw3U125DsuTuQnyq6DZrKx7wLuX5g8EwjqvGIjadgvNMfSr\n",
       "rs9SFy5yXyQO9SanpgIOmPgEvRqQDaWGi0GbN3ME9mn3wcNORLCW+FQzZzVPK8176ApuhGxBAbYz\n",
       "qxUjARWUHYq/X6UBFVCWaT2CMtqd8hp7QV2hn3Zs/zyuNSJ5NSX9raYYn8MQp8DzJGMxyjMcVvZz\n",
       "KgojfV9/af0/Z/uOKds2TZbbTdJol+IF/MTa8c9lIOTJ684MqBBK0SWLxxoSxWM4i0IDXph9y3GF\n",
       "qHM8GRykQ92fdNKzzUPjUxfABes0H61T5QmJh/HsAERvwGo9iD8iQcHZRc8FNkmRyvBo9KXBzjx1\n",
       "kvRKphY+qXHpC77D/Balisu6Up8nNDUKcd4DJvrhYVxGrtCgVkldtWcu5OtNipXWFGGKCSxRYU6h\n",
       "eXw8/yb6Zf860jAXZJQAVMEVUMdsM5gUS0YZUGUg8BCbLajtZgN2sHMAVS+R5xJgNxrL/Au9ABgH\n",
       "Eiml7tckvxj21yAL6YvK8NuISwmAe9MvNdrJ4NKLXstgMoDTlryLCU7VhkT/Ib824oeNBeLXiOUI\n",
       "5X68Uj0kOp4h7nCLL/Z498xcSNt8deITXNSpydlrN4lbZxk/NIM6H0C2qSRwICxiErVqvQQzgGc1\n",
       "tuuVOiKrKgbWS/awLN5rmYtfRaLtBbQWYZukz5mmU5tVkeksnmO0646PZhkdhrbSthPV8FjRRjJ4\n",
       "KV/QnvibTWZ9ydIN2oA12gHaMljrF2casSbM0UY9o/sTJ9rfZMR9SPcKYMX8wPs+seDlaONdrCqK\n",
       "reIOBR0eBgsJEOHdjF0mtnfv4Yq2bm9/+HLgDWXgp9m5P/D41oXwLzNBTnIwUHJ4x72pczVxPGVo\n",
       "xKgLi95ULFjcLgduuxfJ7ZmMwo6nifMMuov/RMw8zb7P3dKjnBAypLYx2jk/eZVQkqQX1MQF/ucb\n",
       "fN832Qf9ffp/w4lMq75BOWPmFFX8pktvhiO+DqlJ3Dvne5YvirDTbQhvgJidRB9zwEPPGosNJ+Eh\n",
       "KhPgEKCn5//2bi//wYK8tGfKlH6s1aGn+LR3JzXug3NnsRyXjmsOG/CevzqnHy5BMwtcvQmE+aLw\n",
       "lBhtECw3lEIe8u7RUQu11C4v+pZZPj+KbsivnygQkyODd7qA8uB6QQAAAzwBn01qQS8AAyLnsKAA\n",
       "3asPPuSmCzjRqSL+FbWiWf49a59x1vuh3Tog+2RWCv29TckAqY9bsvtXRXAZkiMhvGe0kU+ztMTo\n",
       "qDv9KGTifXLxt+XpYBs+VLIh9DCJSK3eUHxDKqSEaWWN5EXSTHA7eUh4tmqNoZQDlN7owBUHla9p\n",
       "zRB5vZT5X/EcoaRjj+c5BiJG7ZfxglqDAXvpJlBJWj4Ak1DcSm43knriYKVeHf1bxW+sLdQ7/pLr\n",
       "98ioXFPEmHetAeAl7HrGYLb33ctStvBHmrhSqvWsOvTRIu7Jpv4Oq/OmUsxNKG6izl+Y74B+ZYWO\n",
       "CSFwYvTjaWwAyTATJy9jsZwVBcT0inhDRuN6f+jPgs3VFqshk1JjkkjS5jjRUvqGGgkG08P5o9SQ\n",
       "X81mK1jaTXCKFUaLgYeRfh6TeNTsiqt6hfWSdum01Huam4eB5R6VQxUVmDTFfZ/pZdf6En1pGT6k\n",
       "HBEoocZXDwU00FlSXGGbW3b5xpHRRUKA4ztzJK9lscRzYYUZFsQhvYhr3hinxBrkRJ/3+duYIP1H\n",
       "V0GOQ8oIYu95xN+S+gr5KNke6fFVXrxgoVxmwF9+lYk3ePSolrwsN8rmJ14uQ4g4gvOmSPxN4D4f\n",
       "0xHqhSnpT70Lg2aVcVJtpN4JHj37y3lb/YTQnkbdYPyKVssKeuelHnsesNNZhj4dean+PPLtLEzi\n",
       "Yat6wTLvaq/x0O736yPBTMdHD3D/7x1Y1ENdkpZCOkLGd8BdtDqr2cAFTC6Ug9/3zYxvUHzIdv+d\n",
       "AFknhIFtlBYtyk3IEgxe930S0VWih7cQ6wFW1yoTozQ9n8ud+Amb49LFImyNsB7Z5vdMgOmtPVDC\n",
       "nvIkkRQlOj9TqsnroYYVpz4GdhzlULcWKv8TAHZbwrwY5MncRxd44eGUGm1kIRCRg6S5whTKIbc2\n",
       "QelkDDEtwaNvGwh0WkGiAY7wKxm6mBcg/FSqsUv+FIT9tvRITfancA7MiQ9DdeZDR/FW8qsuoaBg\n",
       "/CBHuNYcPDw1mZ+XimS4JhNGT8eMBGhxuIiEt5t5NY+G3ZMGjqDllT6lmmbW31y+cZ9WbyHhv0KE\n",
       "aj7rNYmSl+s4E16IALkZwUEAAANLQZtRSahBaJlMCCn//taMsAGes9DgAtqtOC8jOo9bwaPXROqb\n",
       "e3mFdD5YfICtzxw9hL7s2cngWXnyxcrXx+2hylshgtMR9MUsAB3SRqYUOMQ8byTqjiqocqlEH4Ff\n",
       "Zmv2DxiXog35USnGNVrRQnxlmo28vdGy+9lfCM/Wr399mX2nssdc396pVeBoCJQerHnfZgfibVBr\n",
       "M9ZTBEeTtnnCjRkKrCEWm6p+/WMdrJbw48xMGWP2vx8JJ5AQsUTku0uHhpJM4gy76Q1nDi9pHBVl\n",
       "QZiLcESK+y3NbVfwBhgRuLXXVpEzf0rRVvvcoQjP7BOUjx/U04eD56F8oxKROYAyTB+4XeC1sXE9\n",
       "dbgEkQRGR6Mu0zxJmiiYGz9bnCpMeInIa2RvaT56OOq7cXsc3LL4tPWdF7CYRSSL20xwifkHhx3b\n",
       "ieEAz9XYB6Sqjoo/Du7RWg5M5puk9g5jbP2xe2ux5Hg+2UYpQT2WejTBsrPSU5FGr3YBTabafoqb\n",
       "/eDjGGfUJLZSCmvxrYdja98NaN32V8sUizfjIf7ztEKKY0n73hqm6vhx3V1cm+waMzFFGKYxCifX\n",
       "EYHFO2QfNQkIsgEYbGYkvKo2mP/DyqVpFZKdcX9TIQ6mwxsQSAWjkRWRio99NjEAXj1+xSOJUvBE\n",
       "iy/rcpEZYnKVG2jSO7mtan63Al4qp7rsWTt/5Ciagjw/qicLUzCtrOr3xcyjAsiXTNYKCjnp5iiy\n",
       "rArPHkm6e4/R92JHHtZkOJvxYtXsWKLoWmpyiEih2sYgDbi61A6y8jZbqmhk7OzmC2VrOSDEqlt+\n",
       "1zSjgy+8kbHU+tEb2cCjPhfK0mSWuhP+lA9x77IxAL5b1VO2btUJaOGOnhypGNivS7DH0HL+u6eB\n",
       "anfnO3/oua/lmMZVpJHEISGYAyQrdRYhaVUCGD7Di9mOXwRVBAO6wbfTu6uVw+aH8OFw/Jlc/hon\n",
       "4qtWPA5Ps12nL8Y09XKPyPpj8XpSXJP/gogM72nr2y8LyE4l/91BLhi2wghnY1MJehoUu1RecNrG\n",
       "erUDyXThrshy9nCYKofxH8nCtMvxwDtuQk2Q+ekxy1rBdh6YpT/l1GQTdoWAHjR3UMauegQFhNR0\n",
       "5kmbXnK6cg8ZAAAD2EGfb0URLBP/AAIOdT8pQGAFtbneCu8UsTdTym/MxjyQAcGUPi+8ZoX0XeLY\n",
       "Uy5NdEQX8oF81Ed0tpZJCrsKwlNNhj9KNOAXCzo+EW0JMSIAS+LPoPsLUHs8fGRO6Fj7NO5QMea3\n",
       "RalD0H0ZZZXazA09MjjsEIqi9NwD/MqgtKzQbISz4q/Xq5aSeOfQHzd0vr1rVB5VfgKu1LoFd9NF\n",
       "ydU6RigPsL5P5LA9QVognnIKtTtX4HC37zQgA4wwgBTCBPQC1FTqUTrODZVeqA27EyIrBU2nsFVh\n",
       "USsGpmRQ8V/yWx0wB6cnGY6iHF+qGBEyHgYJhlFplUtJR+0xg8hYa2sRY0ZqD80WNWFTkRI2uW6f\n",
       "+EaeBg0+mT0WB/E7b+HKd8eYY1zn56xfJGde6WiTsdFgmP8DAAmMrBuBiLmm+kDEnrpAZCCainp/\n",
       "es9G2yRB50J+5pYp07h4vTkCZpKH9dHQ4ff92odv7eSLKnX+8xOWZdvfWNO0uQi3NiKAw8fqpeA2\n",
       "SAVzPpwwYQwbXX3ui2Rk2ar543/FsNZrpw9Rm9V+Xyy531z0TAmvTM/dTe7UOVGEF97DLniYC7GF\n",
       "AjRc0eB4r6rdzApFVOljHh2o1iupQ3eNxmwVvmJlrXiDeTujFn4MPKJDAxvpuRTdM+9dM1I7eWfM\n",
       "P7/XPoX+QEllxCxdiVv5qGDOYhddux7o4lkjLtRJaqvNZuQ46370haRHuRMVXIacGv8iM3W0tpd5\n",
       "QBScLDyzfNzXQZgq+J+m4eOazKcDeXRgFn71gsD/+TcciI99JYerMaoSI/3/4KsbS410GjQtm8u5\n",
       "saSj/AzutboZZeTh7cZ4N+e0lDjkX/t+dL2qM9rZnp9kJC8U88/NwzfdAJNWA88E9ppWNsYUK9Jj\n",
       "/XHoR19sbAVKM62Xyv/mc5IREkXVYuB13DdhMQxTVVVGNCdiIBIYHFen0SsuwLXp3kYBu/fOnzlp\n",
       "4QS/I9/ImCo7HMdMZaOA7B88cRIUCsRgYJdDhTSLAmCweVHwanj6dUMyN3hFFF0Mbh5MxUjauje3\n",
       "ZCXIT1j5sS1FsueNJ4PJH2FoR3BhzIMx69ZgxB1qFfV1zMAEB5OGhe9lVASgxX3Oz1HwDqRA9TIE\n",
       "qsuwa5eqpfXr54SYvDHfGRvGSrKtZ14LwSx9B8S/pbsnvhSM0U9o5f+fV3avcsgBNX4e4rQxoBgm\n",
       "OIYOY1CV0FVrTUAijeU1MHYbMfcMS2KYJU3jIuK0XOeaSeH0XzbXPgyCVXm8dobfXvTgoaZqCzFN\n",
       "IeAjzFGx21KWYoOWJj4hBuFsAZAcHNxacqwGDgAAAIUBn5BqQS8AAx88ZK4AA3L1efCO7GZ+7bmS\n",
       "VKedOKlyg6y/lVxF4K2U4q51mgfrZY7BH3BvlMA08G2MWew+iBCzsLJHIEd/fPgo1X9vwZZNFY7E\n",
       "9vUm1hUkmNY3uW4o7Y8Gpc7FFDmqaqsAL6BdB2kLuv7C6N8m83LkXju0J1hqAAJobjIeAAAEzUGb\n",
       "k0moQWyZTBRMEv/+tSqABlR6uXAC2s8wzmup0gpgqQglXFlxryMb9hAUirjzelfg3q9EGV9J+pEa\n",
       "8NedIl8DZf+DzKtFHeRyKJMUoWGUw8POdXcbgzdqjUR9eJ65+UiDX5f0kVA+dWt2UQx2Uhl9Mi2+\n",
       "vJo6/XwXmPZmLojTr85VPL6+gz/tYp56W7Y7h3ss9v7DtGBZdSxvb/FWpevIDw9SshPG/tweiVkW\n",
       "MpuSkp3rPcpW+r17Nto9hZDfXG5q8n/vww5EGK8LtvNog2Bt4EDTDdRF9Cyg5mHbgOfymGDjzEFn\n",
       "BbfTcpnP3XW64+t9f2Ib6gT3pDOlg24j9Bb84e7hou2QFBiPB5rjluE2fFKnaaoCjubpwjSNos6T\n",
       "FJDtkhgTocZUX2aEZFDOs0ewreCbkgq8jckuwZwu8nM3vq/FG3rNkNJovu5LlUsSCzaL247Nfu46\n",
       "5uuH24kIJ6EnmtCL425AnwQXYCVf936G0Ove/QfoRylO//Lnl/0zyC4YzuD2TETPoMZjD3PeXdfw\n",
       "KlUQYcFz7q6FUjTMBfKZSt5AY0emPyQrU3zoJGmrEUsgeVLunilUnb2L/BuxWLDC6jx9ScJmm4lt\n",
       "jc+bp9ysor3G4/5rCbksAwBvtndVi7WxGLOl+gc2ef/Bwc8AZxyum93EnMpmlwarZsZ1gBWrZNQP\n",
       "Qu2GxJOFYzTi3l1NaEYtZBoA8pWeyvKHLtUsgq7xCjoFpmec5HwVuGNVWejigl+wC841PcgT9/tR\n",
       "eMqamnQnAaf85E/o+XslUx2OuHbLShBP6HcS0PyG03PbqBRxyb8CCP1Rn5RmvKdRvurpc3lZTwvA\n",
       "YRCNxv4/1H5Ticj6YaN7yNj/YePn8gvDcwOAF0AhGFYUOSDZOgxjCDQxsnfKrXGepXBLN6Zjtedb\n",
       "F3Q55CpZRbEOsM7ne05gc2ke/GhH2b52fu3K9dzu3etksFi7UBQ5LnOW+eLKTlAEDyjBfHJ626cu\n",
       "OThvMngLXaRx3q2x8Arq5s+evAgWPspf6M0I1kagJBMaYkAJV/HcKAL3Je5MK45rVN7MhPQYnCqQ\n",
       "im4h/PZQco7py4VUSULKLBAGxby10gMOn73/sswdL8wpFsqMREsdq8eoH9dIp1v+hueom+Csv7Ts\n",
       "o4xhxr//MNmTRowXa+Nq1uVpCCHtj9Xa54WrJDGwoKMBHZZ7mnXBD+CRtmU//ZlckzRTS7eHwY5h\n",
       "ci4ae6LvSDqIMH57wIv32ONP7uZrLouPAtbNd3ZAPFhSreroP3rZAbVm8eCiarmA+xbkTalH8kuQ\n",
       "wnRsSgZQUsUjyAKN+nW1Hg5MVzSIy9w3gfOcxazNHfv/gs7SaBWiJ1nXmzV+e7jILpcZZnyY9NKo\n",
       "WOuHGXUgYkFiN0bIWeAM4olUQgcfLNWe7IYTs0YNAuicpm3mzCETS1/UpypQaeUEAZoT8TmL7iCs\n",
       "Fa2sv5XvT+QFr53qKpqmzf/iGyITx1sG+v2AgFMjRYTAL277enXkZE83pX16MmNX8vY2m9QOTVVu\n",
       "JRwgYzVJAVMrFTfu9ro+qdaHCEJ1efgvwyhanUmjXVa3nGqYd14GAI2Ns0f4PQezz+pDqPcRxGz5\n",
       "Uw1u3V3qTeCSuFuxPy+j5viIAjgdqqEnLaAAAJmBAAABugGfsmpBLwADIhBClABxja7GZvLqpq0l\n",
       "8plblJJ2Tvt+4mkXr6wZxCcYo7RP6okrQRyI0KLlp/8FINvsbxxLV62yWsLv/nYDFJZ6i/fIbuh1\n",
       "vaPAgIzkDckkZN6TLunlfDLqTS/6y/iOoavz/gchZiEmbme6Hhj3Jky3wtFEUWddtgnTWekok216\n",
       "QfvAFr58NiFRD7ybWaoHn2in7zIs5UK5UCj2uQVGl4TpWTfSpiJuD/3CATlaZ/477KdryMDK6TVv\n",
       "b6RJjfSzHPP62dLrhqw9YEgrA5uAuG3fnI1Dwo/gexEGt/ZRSkHGpOwwQgkLenBRIEJ2PUIzBZYs\n",
       "jVicYdLfHP7kMUDXsuvxtmvKs72KSLe6Pzewd+rDtgGybgxzbHG+HjupQ6gEN8js/KcZPzELMVpR\n",
       "U3w9h5cre/ZTTI28KEehfG/9UM8O0Tyj0UyforkaVeOBq7spTDCO4dFyo6WieNk1eG5RsRT2T9VC\n",
       "yP96nwBbIZAE+I7gLX1TONE3nTX7WXKuZfIHcMO5iZvq24oygg65qJOSrxendihaA5lqeUaFWSrZ\n",
       "85DI504zYBJuAxkNgADOLjtd34IAAAQKbW9vdgAAAGxtdmhkAAAAAAAAAAAAAAAAAAAD6AAAJxAA\n",
       "AQAAAQAAAAAAAAAAAAAAAAEAAAAAAAAAAAAAAAAAAAABAAAAAAAAAAAAAAAAAABAAAAAAAAAAAAA\n",
       "AAAAAAAAAAAAAAAAAAAAAAAAAAAAAgAAAzR0cmFrAAAAXHRraGQAAAADAAAAAAAAAAAAAAABAAAA\n",
       "AAAAJxAAAAAAAAAAAAAAAAAAAAAAAAEAAAAAAAAAAAAAAAAAAAABAAAAAAAAAAAAAAAAAABAAAAA\n",
       "AkAAAAGwAAAAAAAkZWR0cwAAABxlbHN0AAAAAAAAAAEAACcQAABAAAABAAAAAAKsbWRpYQAAACBt\n",
       "ZGhkAAAAAAAAAAAAAAAAAABAAAACgABVxAAAAAAALWhkbHIAAAAAAAAAAHZpZGUAAAAAAAAAAAAA\n",
       "AABWaWRlb0hhbmRsZXIAAAACV21pbmYAAAAUdm1oZAAAAAEAAAAAAAAAAAAAACRkaW5mAAAAHGRy\n",
       "ZWYAAAAAAAAAAQAAAAx1cmwgAAAAAQAAAhdzdGJsAAAAt3N0c2QAAAAAAAAAAQAAAKdhdmMxAAAA\n",
       "AAAAAAEAAAAAAAAAAAAAAAAAAAAAAkABsABIAAAASAAAAAAAAAABAAAAAAAAAAAAAAAAAAAAAAAA\n",
       "AAAAAAAAAAAAAAAAAAAAGP//AAAANWF2Y0MBZAAW/+EAGGdkABas2UCQN6EAAAMAAQAAAwAEDxYt\n",
       "lgEABmjr48siwP34+AAAAAAcdXVpZGtoQPJfJE/FujmlG88DI/MAAAAAAAAAGHN0dHMAAAAAAAAA\n",
       "AQAAABQAACAAAAAAFHN0c3MAAAAAAAAAAQAAAAEAAACYY3R0cwAAAAAAAAARAAAAAQAAQAAAAAAB\n",
       "AACgAAAAAAEAAEAAAAAAAQAAAAAAAAABAAAgAAAAAAMAAEAAAAAAAQAAYAAAAAABAAAgAAAAAAEA\n",
       "AEAAAAAAAQAAoAAAAAABAABAAAAAAAEAAAAAAAAAAQAAIAAAAAABAACAAAAAAAIAACAAAAAAAQAA\n",
       "YAAAAAABAAAgAAAAABxzdHNjAAAAAAAAAAEAAAABAAAAFAAAAAEAAABkc3RzegAAAAAAAAAAAAAA\n",
       "FAAAJhsAAAgkAAAGOQAABXsAAAYmAAAE9AAABFIAAAQSAAAGhwAAAwEAAAb4AAAIYAAABMsAAAQw\n",
       "AAADQAAAA08AAAPcAAAAiQAABNEAAAG+AAAAFHN0Y28AAAAAAAAAAQAAADAAAABidWR0YQAAAFpt\n",
       "ZXRhAAAAAAAAACFoZGxyAAAAAAAAAABtZGlyYXBwbAAAAAAAAAAAAAAAAC1pbHN0AAAAJal0b28A\n",
       "AAAdZGF0YQAAAAEAAAAATGF2ZjU4LjQ5LjEwMA==\n",
       "\">\n",
       "  Your browser does not support the video tag.\n",
       "</video>"
      ],
      "text/plain": [
       "<matplotlib.animation.FuncAnimation at 0x116f068b0>"
      ]
     },
     "execution_count": 19,
     "metadata": {},
     "output_type": "execute_result"
    }
   ],
   "source": [
    "from matplotlib.animation import FuncAnimation\n",
    "plt.rcParams['animation.html']='html5'\n",
    "\n",
    "fig = plt.figure(figsize=(8, 6))\n",
    "ax = plt.axes()\n",
    "line, = ax.plot((0,1),(0,8))\n",
    "ax.scatter(X, Y, alpha=0.5, s=8)\n",
    "\n",
    "def animation(i):\n",
    "    Y_end = X_end_new.dot(thetas_group[i])\n",
    "    line.set_data(X_end, Y_end)\n",
    "    \n",
    "    label = f'i = {i}, thetas = {np.around(thetas_group[i], decimals=2)}'\n",
    "    line.set_label(label)\n",
    "    ax.legend()\n",
    "    \n",
    "    return line,   \n",
    "\n",
    "anim = FuncAnimation(fig, animation, frames=20, interval=500, blit=True)\n",
    "plt.close()\n",
    "anim"
   ]
  },
  {
   "cell_type": "code",
   "execution_count": 20,
   "metadata": {},
   "outputs": [
    {
     "data": {
      "text/plain": [
       "(array([5.42303676]), array([2.14665968]))"
      ]
     },
     "execution_count": 20,
     "metadata": {},
     "output_type": "execute_result"
    }
   ],
   "source": [
    "from sklearn.linear_model import SGDRegressor\n",
    "sgd_reg = SGDRegressor(penalty = None, max_iter = 100, tol = 1e-2, eta0 = 0.1 )\n",
    "sgd_reg.fit(X, Y.reshape(-1))\n",
    "sgd_reg.intercept_, sgd_reg.coef_\n",
    "## eta0: initial learning rate "
   ]
  },
  {
   "cell_type": "code",
   "execution_count": 21,
   "metadata": {},
   "outputs": [
    {
     "data": {
      "text/plain": [
       "((100,), (100,))"
      ]
     },
     "execution_count": 21,
     "metadata": {},
     "output_type": "execute_result"
    }
   ],
   "source": [
    "Y.reshape(-1).shape, Y.ravel().shape\n",
    "## column vector and 1d array "
   ]
  },
  {
   "cell_type": "markdown",
   "metadata": {},
   "source": [
    "## 3. Polynominal Regression"
   ]
  },
  {
   "cell_type": "code",
   "execution_count": 22,
   "metadata": {},
   "outputs": [
    {
     "data": {
      "image/png": "[encoded data removed]",
      "text/plain": [
       "<Figure size 432x288 with 1 Axes>"
      ]
     },
     "metadata": {},
     "output_type": "display_data"
    }
   ],
   "source": [
    "m = 100 \n",
    "X = 5 * random.rand(m, 1) - 2\n",
    "Y =  0.5*(X-1)**2 +  2*X + 2 + random.rand(m, 1)\n",
    "plt.scatter(X, Y, alpha=0.5, s=8)\n",
    "plt.show()"
   ]
  },
  {
   "cell_type": "code",
   "execution_count": 23,
   "metadata": {},
   "outputs": [
    {
     "data": {
      "text/plain": [
       "(array([-0.36680375]), array([-0.36680375,  0.13454499]))"
      ]
     },
     "execution_count": 23,
     "metadata": {},
     "output_type": "execute_result"
    }
   ],
   "source": [
    "from sklearn.preprocessing import PolynomialFeatures\n",
    "poly_features = PolynomialFeatures(degree=2, include_bias = False)\n",
    "## include_bias: i.e. a column of ones \n",
    "X_poly = poly_features.fit_transform(X)\n",
    "X[0], X_poly[0]"
   ]
  },
  {
   "cell_type": "code",
   "execution_count": 24,
   "metadata": {},
   "outputs": [
    {
     "data": {
      "text/plain": [
       "(2.949438008026915, array([1.01989111, 0.50264308]))"
      ]
     },
     "execution_count": 24,
     "metadata": {},
     "output_type": "execute_result"
    }
   ],
   "source": [
    "lin_reg = LinearRegression()\n",
    "lin_reg.fit(X_poly, Y.ravel())\n",
    "lin_reg.intercept_, lin_reg.coef_"
   ]
  },
  {
   "cell_type": "code",
   "execution_count": 25,
   "metadata": {},
   "outputs": [
    {
     "data": {
      "image/png": "[encoded data removed]",
      "text/plain": [
       "<Figure size 432x288 with 1 Axes>"
      ]
     },
     "metadata": {},
     "output_type": "display_data"
    }
   ],
   "source": [
    "X_sorted = np.sort(X, axis=0)\n",
    "X_sorted_poly = poly_features.fit_transform(X_sorted)\n",
    "pred = lin_reg.predict(X_sorted_poly)\n",
    "plt.scatter(X, Y, alpha=0.5, s=8)\n",
    "plt.plot(X_sorted, pred, alpha=0.5)\n",
    "plt.plot(X_sorted, 3 + 0.99*X_sorted + 0.49*X_sorted**2, alpha=0.5)\n",
    "plt.show()"
   ]
  },
  {
   "cell_type": "markdown",
   "metadata": {},
   "source": [
    "## 4. learning curve "
   ]
  },
  {
   "cell_type": "code",
   "execution_count": 26,
   "metadata": {},
   "outputs": [],
   "source": [
    "from sklearn.model_selection import train_test_split\n",
    "from sklearn.metrics import mean_squared_error\n",
    "def plot_learning_curve(model, X, Y):\n",
    "    X_train, X_val, y_train, y_val = train_test_split(X, Y, random_state=42)\n",
    "    val_errors, train_errors = [], []\n",
    "    for i in range(1, len(Y)):\n",
    "        model.fit(X_train[:i], y_train[:i])\n",
    "        ## X_train[:i]\n",
    "        train_pred = model.predict(X_train[:i])\n",
    "        val_pred = model.predict(X_val)\n",
    "        train_errors.append(mean_squared_error(y_train[:i], train_pred))\n",
    "        val_errors.append(mean_squared_error(y_val, val_pred))\n",
    "    plt.plot(train_errors, label='train' )\n",
    "    plt.plot(val_errors, label='val' )\n",
    "    plt.legend()\n",
    "    return train_errors, val_errors"
   ]
  },
  {
   "cell_type": "code",
   "execution_count": 27,
   "metadata": {},
   "outputs": [
    {
     "data": {
      "image/png": "[encoded data removed]",
      "text/plain": [
       "<Figure size 432x288 with 1 Axes>"
      ]
     },
     "metadata": {},
     "output_type": "display_data"
    }
   ],
   "source": [
    "lin_reg = LinearRegression()\n",
    "train_errors, val_errors = plot_learning_curve(lin_reg, X, Y)"
   ]
  },
  {
   "cell_type": "code",
   "execution_count": 28,
   "metadata": {},
   "outputs": [
    {
     "data": {
      "image/png": "[encoded data removed]",
      "text/plain": [
       "<Figure size 432x288 with 1 Axes>"
      ]
     },
     "metadata": {},
     "output_type": "display_data"
    }
   ],
   "source": [
    "from sklearn.pipeline import Pipeline\n",
    "poly_reg = Pipeline([\n",
    "    ('poly_features', PolynomialFeatures(degree=10, include_bias=False)),\n",
    "    ('lin_reg', LinearRegression())\n",
    "])\n",
    "train_errors, val_errors = plot_learning_curve(poly_reg, X, Y)"
   ]
  },
  {
   "cell_type": "code",
   "execution_count": 29,
   "metadata": {},
   "outputs": [
    {
     "data": {
      "image/png": "[encoded data removed]",
      "text/plain": [
       "<Figure size 432x288 with 1 Axes>"
      ]
     },
     "metadata": {},
     "output_type": "display_data"
    }
   ],
   "source": [
    "plt.plot(train_errors[20:], label='train' )\n",
    "plt.plot(val_errors[20:], label='val' )\n",
    "plt.legend()\n",
    "plt.show()"
   ]
  },
  {
   "cell_type": "markdown",
   "metadata": {},
   "source": [
    "## 5. Regularized Linear Model "
   ]
  },
  {
   "cell_type": "code",
   "execution_count": 30,
   "metadata": {},
   "outputs": [
    {
     "data": {
      "text/plain": [
       "(array([2.9505794]), array([[1.01323951, 0.50414383]]))"
      ]
     },
     "execution_count": 30,
     "metadata": {},
     "output_type": "execute_result"
    }
   ],
   "source": [
    "from sklearn.linear_model import Ridge\n",
    "ridge_reg = Ridge(alpha=1)\n",
    "ridge_reg.fit(X_poly, Y)\n",
    "ridge_reg.intercept_, ridge_reg.coef_\n",
    "## slover = 'auto', 'svd', 'cholesky': scipy.linalg.solve()"
   ]
  },
  {
   "cell_type": "code",
   "execution_count": 31,
   "metadata": {},
   "outputs": [
    {
     "data": {
      "text/plain": [
       "(array([2.81609715]), array([1.00104191, 0.53854938]))"
      ]
     },
     "execution_count": 31,
     "metadata": {},
     "output_type": "execute_result"
    }
   ],
   "source": [
    "sgd_reg = SGDRegressor(penalty='l2')\n",
    "sgd_reg.fit(X_poly, Y.ravel())\n",
    "sgd_reg.intercept_, sgd_reg.coef_"
   ]
  },
  {
   "cell_type": "code",
   "execution_count": 32,
   "metadata": {},
   "outputs": [
    {
     "data": {
      "text/plain": [
       "(array([2.98511882]), array([0.96856843, 0.50366376]))"
      ]
     },
     "execution_count": 32,
     "metadata": {},
     "output_type": "execute_result"
    }
   ],
   "source": [
    "from sklearn.linear_model import Lasso\n",
    "lasso_reg = Lasso(alpha=0.1)\n",
    "lasso_reg.fit(X_poly, Y)\n",
    "lasso_reg.intercept_, lasso_reg.coef_"
   ]
  },
  {
   "cell_type": "code",
   "execution_count": 33,
   "metadata": {},
   "outputs": [
    {
     "data": {
      "text/plain": [
       "(array([2.7978617]), array([0.99886169, 0.54231414]))"
      ]
     },
     "execution_count": 33,
     "metadata": {},
     "output_type": "execute_result"
    }
   ],
   "source": [
    "sgd_reg = SGDRegressor(penalty='l1')\n",
    "sgd_reg.fit(X_poly, Y.ravel())\n",
    "sgd_reg.intercept_, sgd_reg.coef_"
   ]
  },
  {
   "cell_type": "code",
   "execution_count": 34,
   "metadata": {},
   "outputs": [
    {
     "data": {
      "text/plain": [
       "(array([2.97345409]), array([0.96309328, 0.50985132]))"
      ]
     },
     "execution_count": 34,
     "metadata": {},
     "output_type": "execute_result"
    }
   ],
   "source": [
    "from sklearn.linear_model import ElasticNet\n",
    "elastic_reg = ElasticNet(alpha=0.1, l1_ratio=0.5 )\n",
    "elastic_reg.fit(X_poly, Y)\n",
    "elastic_reg.intercept_, elastic_reg.coef_"
   ]
  },
  {
   "cell_type": "code",
   "execution_count": 35,
   "metadata": {},
   "outputs": [],
   "source": [
    "## penalty='l1', 'l2', 'elasticnet'\n",
    "## absolute_value_norm: l1 norm , euclidean_norm: (distance), l2 norm  "
   ]
  },
  {
   "cell_type": "code",
   "execution_count": 36,
   "metadata": {},
   "outputs": [],
   "source": [
    "from sklearn.model_selection import train_test_split\n",
    "from sklearn.metrics import mean_squared_error\n",
    "from sklearn.preprocessing import StandardScaler\n",
    "from sklearn.base import clone\n",
    "from sklearn.pipeline import Pipeline\n",
    "X_train, X_val, y_train, y_val = train_test_split(X, Y, random_state=42)\n",
    "poly_scalar = Pipeline([\n",
    "    ('poly', PolynomialFeatures(degree=2, include_bias=False)),\n",
    "    ('scalar', StandardScaler())  \n",
    "])\n",
    "X_train_prepared = poly_scalar.fit_transform(X_train)\n",
    "X_val_prepared = poly_scalar.transform(X_val)"
   ]
  },
  {
   "cell_type": "code",
   "execution_count": 37,
   "metadata": {},
   "outputs": [
    {
     "data": {
      "text/plain": [
       "605"
      ]
     },
     "execution_count": 37,
     "metadata": {},
     "output_type": "execute_result"
    }
   ],
   "source": [
    "import warnings\n",
    "warnings.filterwarnings('ignore')\n",
    "\n",
    "sgd_reg = SGDRegressor(penalty = None, max_iter=1, tol = 0.001, eta0=0.0001,\n",
    "                      learning_rate='constant', warm_start=True )\n",
    "best_epoch = None \n",
    "best_model = None \n",
    "minumum_val_error = np.inf \n",
    "n_epochs = 1000\n",
    "for epoch in range(n_epochs):\n",
    "    sgd_reg.fit(X_train_prepared, y_train.ravel())\n",
    "    y_val_pred = sgd_reg.predict(X_val_prepared)\n",
    "    val_error = mean_squared_error(y_val, y_val_pred)\n",
    "    if val_error < minumum_val_error:\n",
    "        minumum_val_error = val_error\n",
    "        best_epoch = epoch\n",
    "        best_model = clone(sgd_reg)\n",
    "best_epoch    \n",
    "\n",
    "## from sklearn.base import clone\n",
    "## best_model = clone(sgd_reg)\n",
    "## warm_start = True: fit() start from last end \n",
    "## eta: Greek Alphabet \n",
    "## warnings.filterwarnings('once')"
   ]
  },
  {
   "cell_type": "markdown",
   "metadata": {},
   "source": [
    "## 6. Logistic Regression "
   ]
  },
  {
   "cell_type": "code",
   "execution_count": 38,
   "metadata": {},
   "outputs": [
    {
     "data": {
      "text/plain": [
       "((150, 4), (150,))"
      ]
     },
     "execution_count": 38,
     "metadata": {},
     "output_type": "execute_result"
    }
   ],
   "source": [
    "from sklearn.datasets import load_iris\n",
    "iris = load_iris()\n",
    "X = iris['data']\n",
    "Y = iris['target']\n",
    "X.shape, Y.shape"
   ]
  },
  {
   "cell_type": "code",
   "execution_count": null,
   "metadata": {},
   "outputs": [],
   "source": []
  }
 ],
 "metadata": {
  "kernelspec": {
   "display_name": "Python 3",
   "language": "python",
   "name": "python3"
  },
  "language_info": {
   "codemirror_mode": {
    "name": "ipython",
    "version": 3
   },
   "file_extension": ".py",
   "mimetype": "text/x-python",
   "name": "python",
   "nbconvert_exporter": "python",
   "pygments_lexer": "ipython3",
   "version": "3.8.3"
  }
 },
 "nbformat": 4,
 "nbformat_minor": 4
}
