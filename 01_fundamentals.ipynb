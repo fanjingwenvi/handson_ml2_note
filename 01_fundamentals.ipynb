{
 "cells": [
  {
   "cell_type": "markdown",
   "metadata": {},
   "source": [
    "Further:\n",
    "\n",
    "concepts: \n",
    "machine Learning, data mining / process mining(new area), reinforcement learning(supervised learning), feature = attribute + value\n",
    "\n",
    "exercise answers \n",
    "\n",
    "“Hands-On Machine Learning with Scikit-Learn, Keras, and TensorFlow, 2nd Edition,\n",
    "by Aurélien Géron (O’Reilly). Copyright 2019 Aurélien Géron, 978-1-492-\n",
    "03264-9.”\n",
    "\n",
    "git command:\n",
    "ssh-keygen is a standard component of the Secure Shell protocol\n"
   ]
  },
  {
   "cell_type": "markdown",
   "metadata": {},
   "source": [
    "'''\n",
    "\n",
    "Exercises \n",
    "\n",
    "1. How would you define Machine Learning? \n",
    "Machine learning is the field of study that gives computers the ability to learn without explicitly programmed.\n",
    "Machine learning is the science of programming computers so they can learn from data.\n",
    "\n",
    "2. Can you name four types of problems where it shines? \n",
    "content recommendation, speech recognition, image recognition, automatic car driving, \n",
    "\n",
    "3. What is a labeled training set? \n",
    "the training set that is with the desired solutions. \n",
    " \n",
    "4. What are the two most common supervised tasks?\n",
    "regression(linear regression)calssification, (logistic regression).\n",
    "\n",
    "5. Can you name four common unsupervised tasks? \n",
    "*clustering, association rule learning, anomaly detection, dimensionality reduction(PCA).\n",
    "\n",
    "6. What type of Machine Learning algorithm would you use to allow a robot to walk in various unknown terrains? \n",
    "unsupervided.\n",
    "\n",
    "7. What type of algorithm would you use to segment your customers into multiple groups?\n",
    "unsupervised. \n",
    "\n",
    "8. Would you frame the problem of spam detection as a supervised learning problem or an unsupervised learning problem? \n",
    "unsupervised. (semi-supervised: put labels for the spam)\n",
    "\n",
    "9. What is an online learning system? \n",
    "train the system incrementally by feeding it data instances sequentially. incremental learning.\n",
    "\n",
    "10. What is out-of-core learning? \n",
    "*train systems on huge dataset that can not fit in one machine's memory. load part of the data train on the data, reapeat.\n",
    "\n",
    "11. What type of learning algorithm relies on a similarity measure to make predictions? \n",
    "*instance based learning. comparing instances similarity instead of explicit model generalization.nearest neighbor algorithm.\n",
    "\n",
    "12. What is the difference between a model parameter and a learning algorithms hyperparameter? \n",
    "A hyperparemeter is a parameter of the learning algorithm instead of the model. It is not affected by the learning algorithm itself. It must be set prior to training and remain constant during the trainng. \n",
    "\n",
    "13. What do model-based learning algorithms search for? What is the most common strategy they use to succeed? How do they make predictions? \n",
    "*Generalization from a set of examples. Build a model of these examples. Use the model to make predictions. \n",
    "\n",
    "14. Can you name four of the main challenges in Machine Learning?\n",
    "bad data: insufficient quantity of traning data, nonrepresentative training dats(too small: sampling noise; too big: sampling bias), poor quality data, irrelevant features. bad algorithm:: overfiting(high variance, data distribute), underfitting(high bias, model generalize)\n",
    "\n",
    "15. If your model performs great on the training data but generalizes poorly to new instances, what is happening? Can you name three possible solutions?\n",
    "*The problem is overfitting. choose the model with fewer parameters (regularization) , input more training data, reduce the noise in the training set. \n",
    " \n",
    "16. What is a test set and why would you want to use it? \n",
    "You can split the data into training set and test set. The test set is unsed to evaluate the model.\n",
    "\n",
    "17. What is the purpose of a validation set?\n",
    "Validation set is the a second handout set.\n",
    "\n",
    "18. What can go wrong if you tune hyperparameters using the test set? \n",
    "You adapt he model and the hyperparameters to produce the best model for that set instaed of general set.\n",
    "\n",
    "19. What is cross-validation and why would you prefer it to a validation set? \n",
    "The training set is split into complementary subsets, and each model is trained against a different combination of these subsets and validated against the remaining parts. It is used to acoid “wasting” too much traning data in validation sets . \n",
    "\n",
    "'''\n"
   ]
  },
  {
   "cell_type": "code",
   "execution_count": 1,
   "metadata": {},
   "outputs": [],
   "source": [
    "from __future__ import division, print_function, unicode_literals\n",
    "## to support both python2 and python3\n",
    "\n",
    "import os \n",
    "import numpy as np \n",
    "np.random.seed(42)\n",
    "%matplotlib inline \n",
    "import matplotlib as mpl \n",
    "import matplotlib.pyplot as plt \n",
    "import pandas as pd \n",
    "import sklearn\n",
    "\n",
    "import warnings\n",
    "warnings.filterwarnings(action='ignore', message='^internal gelsd')\n",
    "## ignore useless warning(see SciPy issue #5998)"
   ]
  },
  {
   "cell_type": "code",
   "execution_count": 2,
   "metadata": {},
   "outputs": [],
   "source": [
    "PROJECT_ROOT_DIR = '.'\n",
    "CHAPTER_ID = '01'\n",
    "def safe_fig(fig_id, tight_layout=True):\n",
    "    path = os.path.join(PROJECT_ROOT_DIR, 'img', CHAPTER_ID, fig_id + '.png')\n",
    "    print('saving figures', fig_id)\n",
    "    if tight_layout: \n",
    "        plt.tight_layout()\n",
    "    plt.savefig(path, format='png', dpi=300)"
   ]
  },
  {
   "cell_type": "code",
   "execution_count": 3,
   "metadata": {},
   "outputs": [],
   "source": [
    "oecd_bli = pd.read_csv('dataset/lifesat/oecd_bli_2015.csv', thousands=',')\n",
    "gdp_per_capita = pd.read_csv('dataset/lifesat/gdp_per_capita.csv',  thousands=',', delimiter = '\\t',\n",
    "                             encoding = 'latin1', na_values='n/a' )\n",
    "## thousands separator: number\n",
    "## delimiter separator: sep \n",
    "## standard encoding: file \n",
    "## na_values = represent missing value: there are missing values \n",
    "## Organisation for Economic Co-operation and Development, better life index "
   ]
  },
  {
   "cell_type": "code",
   "execution_count": 4,
   "metadata": {},
   "outputs": [],
   "source": [
    "def prepare_country_stats(oecd_bli, gdp_per_capita):\n",
    "    oecd_bli = oecd_bli[oecd_bli[\"INEQUALITY\"]==\"TOT\"]\n",
    "    oecd_bli = oecd_bli.pivot(index=\"Country\", columns=\"Indicator\", values=\"Value\")\n",
    "    gdp_per_capita.rename(columns={\"2015\": \"GDP per capita\"}, inplace=True)\n",
    "    gdp_per_capita.set_index(\"Country\", inplace=True)\n",
    "    full_country_stats = pd.merge(left=oecd_bli, right=gdp_per_capita,\n",
    "                                  left_index=True, right_index=True)\n",
    "    full_country_stats.sort_values(by=\"GDP per capita\", inplace=True)\n",
    "    remove_indices = [0, 1, 6, 8, 33, 34, 35]\n",
    "    keep_indices = list(set(range(36)) - set(remove_indices))\n",
    "    return full_country_stats[[\"GDP per capita\", 'Life satisfaction']].iloc[keep_indices]"
   ]
  },
  {
   "cell_type": "code",
   "execution_count": 5,
   "metadata": {},
   "outputs": [],
   "source": [
    "country_stats = prepare_country_stats(oecd_bli, gdp_per_capita)\n",
    "X = np.c_[country_stats['GDP per capita']]\n",
    "y = np.c_[country_stats['Life satisfaction']]\n",
    "## numpy.c_ = <numpy.lib.index_tricks.CClass object>¶"
   ]
  },
  {
   "cell_type": "code",
   "execution_count": 6,
   "metadata": {},
   "outputs": [],
   "source": [
    "from sklearn import linear_model\n",
    "lin_reg_model = linear_model.LinearRegression()"
   ]
  },
  {
   "cell_type": "code",
   "execution_count": 7,
   "metadata": {},
   "outputs": [
    {
     "data": {
      "image/png": "[encoded data removed]",
      "text/plain": [
       "<Figure size 576x432 with 1 Axes>"
      ]
     },
     "metadata": {
      "needs_background": "light"
     },
     "output_type": "display_data"
    }
   ],
   "source": [
    "lin_reg_model.fit(X, y)\n",
    "\n",
    "plt.figure(figsize=(8, 6))\n",
    "plt.scatter(X, y, alpha=0.2, color='steelblue')\n",
    "_=plt.plot(X, lin_reg_model.predict(X), color='steelblue' )"
   ]
  },
  {
   "cell_type": "code",
   "execution_count": 8,
   "metadata": {},
   "outputs": [
    {
     "data": {
      "text/plain": [
       "array([[6.25984414]])"
      ]
     },
     "execution_count": 8,
     "metadata": {},
     "output_type": "execute_result"
    }
   ],
   "source": [
    "X_new = [[22587]]\n",
    "lin_reg_model.predict(X_new)"
   ]
  },
  {
   "cell_type": "code",
   "execution_count": 9,
   "metadata": {},
   "outputs": [],
   "source": [
    "## pandas merge, join, concatenate \n",
    "## pd.concat(), a useful shortcut is pd.append()\n",
    "## low peformance \n",
    "## pd.merge(left, right, how = 'inner'), with a dataframe style join \n",
    "## high performance in-memory join operations, very similar to SQL\n",
    "## pd.DataFrame.join(), left.join(right, how = 'inner'), join columns of anther DataFrame "
   ]
  },
  {
   "cell_type": "code",
   "execution_count": null,
   "metadata": {},
   "outputs": [],
   "source": []
  },
  {
   "cell_type": "code",
   "execution_count": null,
   "metadata": {},
   "outputs": [],
   "source": []
  }
 ],
 "metadata": {
  "kernelspec": {
   "display_name": "Python 3",
   "language": "python",
   "name": "python3"
  },
  "language_info": {
   "codemirror_mode": {
    "name": "ipython",
    "version": 3
   },
   "file_extension": ".py",
   "mimetype": "text/x-python",
   "name": "python",
   "nbconvert_exporter": "python",
   "pygments_lexer": "ipython3",
   "version": "3.8.3"
  }
 },
 "nbformat": 4,
 "nbformat_minor": 4
}
