{
 "cells": [
  {
   "cell_type": "raw",
   "metadata": {},
   "source": [
    "Further:\n",
    "\n",
    "What's going on during the cross validation \n",
    "\n",
    "concepts: \n",
    "feature = attribute + value\n",
    "\n",
    "exercise answers \n",
    "\n",
    "“Hands-On Machine Learning with Scikit-Learn, Keras, and TensorFlow, 2nd Edition,\n",
    "by Aurélien Géron (O’Reilly). Copyright 2019 Aurélien Géron, 978-1-492-\n",
    "03264-9.”\n",
    "\n",
    "git command:\n",
    "ssh-keygen is a standard component of the Secure Shell protocol"
   ]
  },
  {
   "cell_type": "raw",
   "metadata": {},
   "source": [
    "# Chap01 The fundamentals of Machine Learning \n",
    "\n",
    "Exercises \n",
    "\n",
    "1. How would you define Machine Learning? \n",
    "Machine learning is the field of study that gives computers the ability to learn without explicitly programmed.\n",
    "Machine learning is the science of programming computers so they can learn from data.\n",
    "\n",
    "2. Can you name four types of problems where it shines? \n",
    "content recommendation, speech recognition, image recognition, automatic car driving, \n",
    "\n",
    "3. What is a labeled training set? \n",
    "the training set that is with the desired solutions. \n",
    " \n",
    "4. What are the two most common supervised tasks?\n",
    "regression(linear regression), calssification, (logistic regression).\n",
    "\n",
    "5. Can you name four common unsupervised tasks? \n",
    "*clustering, association rule learning, anomaly detection, dimensionality reduction(PCA).\n",
    "\n",
    "6. What type of Machine Learning algorithm would you use to allow a robot to walk in various unknown terrains? \n",
    "reininforcement \n",
    "\n",
    "7. What type of algorithm would you use to segment your customers into multiple groups?\n",
    "unsupervised. \n",
    "\n",
    "8. Would you frame the problem of spam detection as a supervised learning problem or an unsupervised learning problem? \n",
    "semi-supervised\n",
    "\n",
    "9. What is an online learning system? \n",
    "train the system incrementally by feeding it data instances sequentially. incremental learning.\n",
    "\n",
    "10. What is out-of-core learning? \n",
    "*online learning / incremental learning algorithms can be used to train systems on huge dataset that can not fit in one machine's memory. (load part of the data, train on the data, reapeat.)\n",
    "\n",
    "11. What type of learning algorithm relies on a similarity measure to make predictions? \n",
    "*instance based learning. comparing instances similarity instead of explicit model generalization. nearest neighbor algorithm.\n",
    "\n",
    "12. What is the difference between a model parameter and a learning algorithms hyperparameter? \n",
    "*A hyperparemeter: regularization hyperparameter in linear regression. It must be set prior to training and remain constant during the trainng. \n",
    "\n",
    "13. What do model-based learning algorithms search for? What is the most common strategy they use to succeed? How do they make predictions? \n",
    "*Generalization from a set of examples. Build a model of these examples. Use the model to make predictions. \n",
    "\n",
    "14. Can you name four of the main challenges in Machine Learning?\n",
    "bad data: insufficient quantity of traning data, nonrepresentative training data(too small: sampling noise; too big: sampling bias), poor quality data, irrelevant features. bad algorithm: overfiting(high variance), underfitting(high bias)\n",
    "\n",
    "15. If your model performs great on the training data but generalizes poorly to new instances, what is happening? Can you name three possible solutions?\n",
    "*The problem is overfitting. choose the model with fewer parameters (regularization) , input more training data, reduce the noise in the training set. \n",
    " \n",
    "16. What is a test set and why would you want to use it? \n",
    "You can split the data into training set and test set. The test set is unsed to evaluate the model.\n",
    "\n",
    "17. What is the purpose of a validation set?\n",
    "Validation set is the a second handout set.\n",
    "\n",
    "18. What can go wrong if you tune hyperparameters using the test set? \n",
    "You adapt he model and the hyperparameters to produce the best model for that set instaed of general set.\n",
    "\n",
    "19. What is cross-validation and why would you prefer it to a validation set? \n",
    "The training set is split into complementary subsets, and each model is trained against a different combination of these subsets and validated against the remaining parts. It is used to acoid “wasting” too much traning data in validation sets . \n",
    "\n",
    "'''\n"
   ]
  },
  {
   "cell_type": "code",
   "execution_count": 16,
   "metadata": {},
   "outputs": [],
   "source": [
    "## f\"{}\"\n",
    "## pandas merge, join, concatenate \n",
    "## pd.concat(), a useful shortcut is pd.append()\n",
    "## low peformance \n",
    "## pd.merge(left, right, how = 'inner'), with a dataframe style join \n",
    "## high performance in-memory join operations, very similar to SQL\n",
    "## pd.DataFrame.join(), left.join(right, how = 'inner'), join columns of anther DataFrame "
   ]
  },
  {
   "cell_type": "code",
   "execution_count": 1,
   "metadata": {},
   "outputs": [],
   "source": [
    "from __future__ import division, print_function, unicode_literals\n",
    "## to support both python2 and python3\n",
    "\n",
    "import os \n",
    "import numpy as np \n",
    "np.random.seed(42)\n",
    "%matplotlib inline \n",
    "import matplotlib as mpl \n",
    "import matplotlib.pyplot as plt \n",
    "import pandas as pd \n",
    "import sklearn\n",
    "\n",
    "import warnings\n",
    "warnings.filterwarnings(action='ignore', message='^internal gelsd')\n",
    "## ignore useless warning(see SciPy issue #5998)"
   ]
  },
  {
   "cell_type": "code",
   "execution_count": 2,
   "metadata": {},
   "outputs": [],
   "source": [
    "PROJECT_ROOT_DIR = '.'\n",
    "CHAPTER_ID = '01'\n",
    "def safe_fig(fig_id, tight_layout=True):\n",
    "    path = os.path.join(PROJECT_ROOT_DIR, 'img', CHAPTER_ID, fig_id + '.png')\n",
    "    print('saving figures', fig_id)\n",
    "    if tight_layout: \n",
    "        plt.tight_layout()\n",
    "    plt.savefig(path, format='png', dpi=300)"
   ]
  },
  {
   "cell_type": "code",
   "execution_count": 3,
   "metadata": {},
   "outputs": [],
   "source": [
    "oecd_bli = pd.read_csv('dataset/lifesat/oecd_bli_2015.csv', thousands=',')\n",
    "gdp_per_capita = pd.read_csv('dataset/lifesat/gdp_per_capita.csv',  thousands=',', delimiter = '\\t',\n",
    "                             encoding = 'latin1', na_values='n/a' )\n",
    "## thousands separator: number\n",
    "## delimiter separator: sep \n",
    "## standard encoding: file \n",
    "## na_values: represent missing value\n",
    "## Organisation for Economic Co-operation and Development, better life index "
   ]
  },
  {
   "cell_type": "code",
   "execution_count": 5,
   "metadata": {},
   "outputs": [
    {
     "data": {
      "text/html": [
       "<div>\n",
       "<style scoped>\n",
       "    .dataframe tbody tr th:only-of-type {\n",
       "        vertical-align: middle;\n",
       "    }\n",
       "\n",
       "    .dataframe tbody tr th {\n",
       "        vertical-align: top;\n",
       "    }\n",
       "\n",
       "    .dataframe thead th {\n",
       "        text-align: right;\n",
       "    }\n",
       "</style>\n",
       "<table border=\"1\" class=\"dataframe\">\n",
       "  <thead>\n",
       "    <tr style=\"text-align: right;\">\n",
       "      <th></th>\n",
       "      <th>Country</th>\n",
       "      <th>Subject Descriptor</th>\n",
       "      <th>Units</th>\n",
       "      <th>Scale</th>\n",
       "      <th>Country/Series-specific Notes</th>\n",
       "      <th>2015</th>\n",
       "      <th>Estimates Start After</th>\n",
       "    </tr>\n",
       "  </thead>\n",
       "  <tbody>\n",
       "    <tr>\n",
       "      <th>0</th>\n",
       "      <td>Afghanistan</td>\n",
       "      <td>Gross domestic product per capita, current prices</td>\n",
       "      <td>U.S. dollars</td>\n",
       "      <td>Units</td>\n",
       "      <td>See notes for:  Gross domestic product, curren...</td>\n",
       "      <td>599.994</td>\n",
       "      <td>2013.0</td>\n",
       "    </tr>\n",
       "    <tr>\n",
       "      <th>1</th>\n",
       "      <td>Albania</td>\n",
       "      <td>Gross domestic product per capita, current prices</td>\n",
       "      <td>U.S. dollars</td>\n",
       "      <td>Units</td>\n",
       "      <td>See notes for:  Gross domestic product, curren...</td>\n",
       "      <td>3995.383</td>\n",
       "      <td>2010.0</td>\n",
       "    </tr>\n",
       "    <tr>\n",
       "      <th>2</th>\n",
       "      <td>Algeria</td>\n",
       "      <td>Gross domestic product per capita, current prices</td>\n",
       "      <td>U.S. dollars</td>\n",
       "      <td>Units</td>\n",
       "      <td>See notes for:  Gross domestic product, curren...</td>\n",
       "      <td>4318.135</td>\n",
       "      <td>2014.0</td>\n",
       "    </tr>\n",
       "    <tr>\n",
       "      <th>3</th>\n",
       "      <td>Angola</td>\n",
       "      <td>Gross domestic product per capita, current prices</td>\n",
       "      <td>U.S. dollars</td>\n",
       "      <td>Units</td>\n",
       "      <td>See notes for:  Gross domestic product, curren...</td>\n",
       "      <td>4100.315</td>\n",
       "      <td>2014.0</td>\n",
       "    </tr>\n",
       "    <tr>\n",
       "      <th>4</th>\n",
       "      <td>Antigua and Barbuda</td>\n",
       "      <td>Gross domestic product per capita, current prices</td>\n",
       "      <td>U.S. dollars</td>\n",
       "      <td>Units</td>\n",
       "      <td>See notes for:  Gross domestic product, curren...</td>\n",
       "      <td>14414.302</td>\n",
       "      <td>2011.0</td>\n",
       "    </tr>\n",
       "  </tbody>\n",
       "</table>\n",
       "</div>"
      ],
      "text/plain": [
       "               Country                                 Subject Descriptor  \\\n",
       "0          Afghanistan  Gross domestic product per capita, current prices   \n",
       "1              Albania  Gross domestic product per capita, current prices   \n",
       "2              Algeria  Gross domestic product per capita, current prices   \n",
       "3               Angola  Gross domestic product per capita, current prices   \n",
       "4  Antigua and Barbuda  Gross domestic product per capita, current prices   \n",
       "\n",
       "          Units  Scale                      Country/Series-specific Notes  \\\n",
       "0  U.S. dollars  Units  See notes for:  Gross domestic product, curren...   \n",
       "1  U.S. dollars  Units  See notes for:  Gross domestic product, curren...   \n",
       "2  U.S. dollars  Units  See notes for:  Gross domestic product, curren...   \n",
       "3  U.S. dollars  Units  See notes for:  Gross domestic product, curren...   \n",
       "4  U.S. dollars  Units  See notes for:  Gross domestic product, curren...   \n",
       "\n",
       "        2015  Estimates Start After  \n",
       "0    599.994                 2013.0  \n",
       "1   3995.383                 2010.0  \n",
       "2   4318.135                 2014.0  \n",
       "3   4100.315                 2014.0  \n",
       "4  14414.302                 2011.0  "
      ]
     },
     "execution_count": 5,
     "metadata": {},
     "output_type": "execute_result"
    }
   ],
   "source": [
    "gdp_per_capita.head()"
   ]
  },
  {
   "cell_type": "code",
   "execution_count": 6,
   "metadata": {},
   "outputs": [],
   "source": [
    "def prepare_country_stats(oecd_bli, gdp_per_capita):\n",
    "    oecd_bli = oecd_bli[oecd_bli[\"INEQUALITY\"]==\"TOT\"]\n",
    "    oecd_bli = oecd_bli.pivot(index=\"Country\", columns=\"Indicator\", values=\"Value\")\n",
    "    gdp_per_capita.rename(columns={\"2015\": \"GDP per capita\"}, inplace=True)\n",
    "    gdp_per_capita.set_index(\"Country\", inplace=True)\n",
    "    full_country_stats = pd.merge(left=oecd_bli, right=gdp_per_capita,\n",
    "                                  left_index=True, right_index=True)\n",
    "    full_country_stats.sort_values(by=\"GDP per capita\", inplace=True)\n",
    "    remove_indices = [0, 1, 6, 8, 33, 34, 35]\n",
    "    keep_indices = list(set(range(36)) - set(remove_indices))\n",
    "    return full_country_stats[[\"GDP per capita\", 'Life satisfaction']].iloc[keep_indices]\n",
    "## OECD better life index "
   ]
  },
  {
   "cell_type": "code",
   "execution_count": 7,
   "metadata": {},
   "outputs": [],
   "source": [
    "country_stats = prepare_country_stats(oecd_bli, gdp_per_capita)\n",
    "X = np.c_[country_stats['GDP per capita']]\n",
    "y = np.c_[country_stats['Life satisfaction']]\n",
    "## concatenation along the second axis."
   ]
  },
  {
   "cell_type": "code",
   "execution_count": 10,
   "metadata": {},
   "outputs": [],
   "source": [
    "from sklearn import linear_model\n",
    "lin_reg_model = linear_model.LinearRegression()"
   ]
  },
  {
   "cell_type": "code",
   "execution_count": 14,
   "metadata": {},
   "outputs": [
    {
     "data": {
      "image/png": "[encoded data removed]",
      "text/plain": [
       "<Figure size 576x432 with 1 Axes>"
      ]
     },
     "metadata": {
      "needs_background": "light"
     },
     "output_type": "display_data"
    }
   ],
   "source": [
    "lin_reg_model.fit(X, y)\n",
    "\n",
    "plt.figure(figsize=(8, 6))\n",
    "plt.scatter(X, y, alpha=0.4, color='steelblue')\n",
    "_=plt.plot(X, lin_reg_model.predict(X), color='steelblue' )"
   ]
  },
  {
   "cell_type": "code",
   "execution_count": 15,
   "metadata": {},
   "outputs": [
    {
     "data": {
      "text/plain": [
       "array([[6.25984414]])"
      ]
     },
     "execution_count": 15,
     "metadata": {},
     "output_type": "execute_result"
    }
   ],
   "source": [
    "X_new = [[22587]]\n",
    "lin_reg_model.predict(X_new)"
   ]
  },
  {
   "cell_type": "code",
   "execution_count": 9,
   "metadata": {},
   "outputs": [],
   "source": []
  }
 ],
 "metadata": {
  "kernelspec": {
   "display_name": "Python 3 (ipykernel)",
   "language": "python",
   "name": "python3"
  },
  "language_info": {
   "codemirror_mode": {
    "name": "ipython",
    "version": 3
   },
   "file_extension": ".py",
   "mimetype": "text/x-python",
   "name": "python",
   "nbconvert_exporter": "python",
   "pygments_lexer": "ipython3",
   "version": "3.8.13"
  },
  "toc": {
   "base_numbering": 1,
   "nav_menu": {},
   "number_sections": true,
   "sideBar": true,
   "skip_h1_title": false,
   "title_cell": "Table of Contents",
   "title_sidebar": "Contents",
   "toc_cell": false,
   "toc_position": {},
   "toc_section_display": true,
   "toc_window_display": false
  }
 },
 "nbformat": 4,
 "nbformat_minor": 4
}
